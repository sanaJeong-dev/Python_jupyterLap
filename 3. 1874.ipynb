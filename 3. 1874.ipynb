{
 "cells": [
  {
   "cell_type": "code",
   "execution_count": null,
   "metadata": {},
   "outputs": [],
   "source": [
    "n = 8\n",
    "given = [4, 3, 6, 8, 7, 5, 2, 1]\n",
    "stack = list()\n",
    "appendIndex = 1\n",
    "givenIndex = 0"
   ]
  },
  {
   "cell_type": "code",
   "execution_count": null,
   "metadata": {},
   "outputs": [],
   "source": [
    "stack.append(appendIndex)\n",
    "print('+')\n",
    "appendIndex += 1\n",
    "\n",
    "while appendIndex <= n:\n",
    "    print(appendIndex, givenIndex, stack)\n",
    "    if len(stack) == 0:\n",
    "        print('something')\n",
    "        \n",
    "    if stack[-1] == given[givenIndex]:\n",
    "        stack.pop()\n",
    "        print('-')\n",
    "        givenIndex += 1\n",
    "        #pop성공할 때마다 givenIndex += 1 \n",
    "    else:\n",
    "        stack.append(appendIndex)\n",
    "        print('+')\n",
    "        appendIndex += 1\n",
    "    \n",
    "if appendIndex != n:\n",
    "    print('NO')\n",
    "\n",
    "while n - givenIndex:\n",
    "    if stack[-1] == given[givenIndex]:\n",
    "        stack.pop()\n",
    "        print('-')\n",
    "        givenIndex += 1\n"
   ]
  },
  {
   "cell_type": "code",
   "execution_count": 6,
   "metadata": {},
   "outputs": [
    {
     "name": "stdout",
     "output_type": "stream",
     "text": [
      "8\n",
      "4\n",
      "3\n",
      "6\n",
      "8\n",
      "7\n",
      "5\n",
      "2\n",
      "1\n",
      "+\n",
      "+\n",
      "+\n",
      "+\n",
      "-\n",
      "-\n",
      "+\n",
      "+\n",
      "-\n",
      "+\n",
      "+\n",
      "-\n",
      "-\n",
      "-\n",
      "-\n",
      "-\n"
     ]
    }
   ],
   "source": [
    "'''해설 보고 난 후'''\n",
    "n = int(input())\n",
    "ascendCount = 1\n",
    "stack, result = [], []\n",
    "\n",
    "for _ in range(1, n+1):   #데이터를 받을 동안\n",
    "    currentData = int(input())\n",
    "    while ascendCount <= currentData:\n",
    "        stack.append(ascendCount)\n",
    "        ascendCount += 1\n",
    "        result.append('+')\n",
    "    if stack[-1] == currentData:\n",
    "        stack.pop()\n",
    "        result.append('-')\n",
    "    else:\n",
    "        print('NO')\n",
    "        exit(0)\n",
    "        \n",
    "print('\\n'.join(result))"
   ]
  },
  {
   "cell_type": "code",
   "execution_count": null,
   "metadata": {},
   "outputs": [],
   "source": []
  }
 ],
 "metadata": {
  "kernelspec": {
   "display_name": "Python 3",
   "language": "python",
   "name": "python3"
  },
  "language_info": {
   "codemirror_mode": {
    "name": "ipython",
    "version": 3
   },
   "file_extension": ".py",
   "mimetype": "text/x-python",
   "name": "python",
   "nbconvert_exporter": "python",
   "pygments_lexer": "ipython3",
   "version": "3.9.0+"
  }
 },
 "nbformat": 4,
 "nbformat_minor": 4
}
