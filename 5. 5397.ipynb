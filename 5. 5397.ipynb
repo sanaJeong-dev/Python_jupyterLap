{
 "cells": [
  {
   "cell_type": "code",
   "execution_count": 2,
   "metadata": {},
   "outputs": [
    {
     "name": "stdout",
     "output_type": "stream",
     "text": [
      "BAPC"
     ]
    }
   ],
   "source": [
    "keyboard = ['<','<','B','P','<','A','>','>','C','d','-']\n",
    "left, right = [],[]\n",
    "\n",
    "for i in keyboard:\n",
    "    if i == '<':\n",
    "        if not left:\n",
    "            continue\n",
    "        else:\n",
    "            right.append(left.pop())\n",
    "    elif i == '>':\n",
    "        if not right:\n",
    "            continue\n",
    "        else:\n",
    "            left.append(right.pop())\n",
    "    elif i == '-':\n",
    "        if not left:\n",
    "            continue\n",
    "        else:\n",
    "            left.pop()\n",
    "    else:\n",
    "        left.append(i)\n",
    "\n",
    "result = left + right\n",
    "for i in result:\n",
    "    print(i, end='')\n",
    "            \n"
   ]
  },
  {
   "cell_type": "code",
   "execution_count": 7,
   "metadata": {
    "jupyter": {
     "source_hidden": true
    }
   },
   "outputs": [
    {
     "name": "stdin",
     "output_type": "stream",
     "text": [
      " 1\n",
      " pik<n>ady<<<l\n"
     ]
    },
    {
     "name": "stdout",
     "output_type": "stream",
     "text": [
      "left ['p'] right []\n",
      "left ['p', 'i'] right []\n",
      "left ['p', 'i', 'k'] right []\n",
      "left ['p', 'i'] right ['k']\n",
      "left ['p', 'i', 'n'] right ['k']\n",
      "left ['p', 'i', 'n', 'k'] right []\n",
      "left ['p', 'i', 'n', 'k', 'a'] right []\n",
      "left ['p', 'i', 'n', 'k', 'a', 'd'] right []\n",
      "left ['p', 'i', 'n', 'k', 'a', 'd', 'y'] right []\n",
      "left ['p', 'i', 'n', 'k', 'a', 'd'] right ['y']\n",
      "left ['p', 'i', 'n', 'k', 'a'] right ['y', 'd']\n",
      "left ['p', 'i', 'n', 'k'] right ['y', 'd', 'a']\n",
      "left ['p', 'i', 'n', 'k', 'l'] right ['y', 'd', 'a']\n",
      "pinklyda"
     ]
    }
   ],
   "source": [
    "'''제출 -> 틀림 왜인지 모르겠음 '''\n",
    "test_case = int(input())\n",
    "for i in range(test_case):\n",
    "    \n",
    "    keyboard = list(input())\n",
    "    \n",
    "    left, right = [],[]\n",
    "\n",
    "    for i in keyboard:\n",
    "        if i == '<':\n",
    "            if not left:\n",
    "                continue\n",
    "            else:\n",
    "                right.append(left.pop())\n",
    "        elif i == '>':\n",
    "            if not right:\n",
    "                continue\n",
    "            else:\n",
    "                left.append(right.pop())\n",
    "        elif i == '-':\n",
    "            if not left:\n",
    "                continue\n",
    "            else:\n",
    "                left.pop()\n",
    "        else:\n",
    "            left.append(i)\n",
    "        print('left', left, 'right', right)\n",
    "\n",
    "    result = left + right\n",
    "    for i in result:\n",
    "        print(i, end='')\n",
    "\n",
    "# 문제 : 왼쪽은 배열이 01234 순서대로 되도 괜찮은데\n",
    "# 오른쪽은 append한거랑 순서가 달라진다"
   ]
  },
  {
   "cell_type": "code",
   "execution_count": 5,
   "metadata": {},
   "outputs": [
    {
     "name": "stdout",
     "output_type": "stream",
     "text": [
      "left ['a'] right []\n",
      "left [] right []\n",
      "left ['b'] right []\n",
      "left [] right ['b']\n",
      "left ['c'] right ['b']\n",
      "left ['c', 'b'] right []\n",
      "left ['c', 'b', 'd'] right []\n",
      "cbd"
     ]
    }
   ],
   "source": [
    "'''디버깅'''\n",
    "\n",
    "keyboard = ['a','-','b','<','c','>','d']\n",
    "    \n",
    "left, right = [],[]\n",
    "\n",
    "for i in keyboard:\n",
    "    if i == '<':\n",
    "        if not left:\n",
    "            continue\n",
    "        else:\n",
    "            right.append(left.pop())\n",
    "    elif i == '>':\n",
    "        if not right:\n",
    "            continue\n",
    "        else:\n",
    "            left.append(right.pop())\n",
    "    elif i == '-':\n",
    "        if not left:\n",
    "            continue\n",
    "        else:\n",
    "            left.pop()\n",
    "    else:\n",
    "        left.append(i)\n",
    "    print('left', left, 'right', right)\n",
    "\n",
    "for i in left:\n",
    "    print(i, end='')\n",
    "    "
   ]
  },
  {
   "cell_type": "code",
   "execution_count": 9,
   "metadata": {},
   "outputs": [
    {
     "name": "stdin",
     "output_type": "stream",
     "text": [
      " 1\n",
      " pik<n>ady<<<l\n"
     ]
    },
    {
     "name": "stdout",
     "output_type": "stream",
     "text": [
      "pinklady"
     ]
    }
   ],
   "source": [
    "''' 문제 찾은 후 해결 -> 그래도 틀렸다 '''\n",
    "test_case = int(input())\n",
    "for i in range(test_case):\n",
    "    \n",
    "    keyboard = list(input())\n",
    "    \n",
    "    left, right = [],[]\n",
    "\n",
    "    for i in keyboard:\n",
    "        if i == '<':\n",
    "            if not left:\n",
    "                continue\n",
    "            else:\n",
    "                right.append(left.pop())\n",
    "        elif i == '>':\n",
    "            if not right:\n",
    "                continue\n",
    "            else:\n",
    "                left.append(right.pop())\n",
    "        elif i == '-':\n",
    "            if not left:\n",
    "                continue\n",
    "            else:\n",
    "                left.pop()\n",
    "        else:\n",
    "            left.append(i)\n",
    "#         print('left', left, 'right', right)\n",
    "\n",
    "    right.reverse()\n",
    "    result = left + right\n",
    "    for i in result:\n",
    "        print(i, end='')\n",
    "\n",
    "# 문제 : 왼쪽은 배열이 01234 순서대로 되도 괜찮은데\n",
    "# 오른쪽은 append한거랑 순서가 달라진다"
   ]
  },
  {
   "cell_type": "code",
   "execution_count": 10,
   "metadata": {},
   "outputs": [
    {
     "name": "stdin",
     "output_type": "stream",
     "text": [
      " 1\n",
      " pik<n>ady<<<l\n"
     ]
    },
    {
     "name": "stdout",
     "output_type": "stream",
     "text": [
      "pinklady"
     ]
    }
   ],
   "source": [
    "''' 문제 찾은 후 해결2 -> 또 틀렸다 '''\n",
    "test_case = int(input())\n",
    "for i in range(test_case):\n",
    "    \n",
    "    keyboard = list(input())\n",
    "    \n",
    "    left, right = [],[]\n",
    "\n",
    "    for i in keyboard:\n",
    "        if i == '<':\n",
    "            if not left:\n",
    "                continue\n",
    "            else:\n",
    "                right.append(left.pop())\n",
    "        elif i == '>':\n",
    "            if not right:\n",
    "                continue\n",
    "            else:\n",
    "                left.append(right.pop())\n",
    "        elif i == '-':\n",
    "            if not left:\n",
    "                continue\n",
    "            else:\n",
    "                left.pop()\n",
    "        else:\n",
    "            left.append(i)\n",
    "#         print('left', left, 'right', right)\n",
    "\n",
    "    while right:\n",
    "        left.append(right.pop())\n",
    "\n",
    "    for i in left:\n",
    "        print(i, end='')\n",
    "\n",
    "# 문제 : 왼쪽은 배열이 01234 순서대로 되도 괜찮은데\n",
    "# 오른쪽은 append한거랑 순서가 달라진다"
   ]
  },
  {
   "cell_type": "code",
   "execution_count": null,
   "metadata": {},
   "outputs": [],
   "source": []
  },
  {
   "cell_type": "code",
   "execution_count": 11,
   "metadata": {},
   "outputs": [
    {
     "name": "stdin",
     "output_type": "stream",
     "text": [
      " 1\n",
      " pik<n>ady<<<l\n"
     ]
    },
    {
     "name": "stdout",
     "output_type": "stream",
     "text": [
      "pinklady\n"
     ]
    }
   ],
   "source": [
    "'''풀이'''\n",
    "\n",
    "testcase = int(input())\n",
    "for _ in range(testcase):\n",
    "    keylog = input()\n",
    "    left, right = [],[]\n",
    "    for data in keylog:\n",
    "        if data == '-':\n",
    "            if left:\n",
    "                left.pop()\n",
    "        elif data == '<':\n",
    "            if left:\n",
    "                right.append(left.pop())  #굳이 if not continue, else do~ 보다 continue인 문장을 아예 배제\n",
    "        elif data == '>':\n",
    "            if right:\n",
    "                left.append(right.pop())\n",
    "        else:  #alphabet\n",
    "            left.append(data)\n",
    "            \n",
    "    left.extend(reversed(right))\n",
    "    print(''.join(left))"
   ]
  },
  {
   "cell_type": "code",
   "execution_count": 13,
   "metadata": {},
   "outputs": [
    {
     "name": "stdin",
     "output_type": "stream",
     "text": [
      " 1\n",
      " pik<n>ady<<<l\n"
     ]
    },
    {
     "name": "stdout",
     "output_type": "stream",
     "text": [
      "pinklady\n"
     ]
    }
   ],
   "source": []
  },
  {
   "cell_type": "code",
   "execution_count": null,
   "metadata": {},
   "outputs": [],
   "source": [
    "'''예제'''\n",
    "pinklady      pik<n>ady<<<l"
   ]
  }
 ],
 "metadata": {
  "kernelspec": {
   "display_name": "Python 3",
   "language": "python",
   "name": "python3"
  },
  "language_info": {
   "codemirror_mode": {
    "name": "ipython",
    "version": 3
   },
   "file_extension": ".py",
   "mimetype": "text/x-python",
   "name": "python",
   "nbconvert_exporter": "python",
   "pygments_lexer": "ipython3",
   "version": "3.8.3"
  }
 },
 "nbformat": 4,
 "nbformat_minor": 4
}
