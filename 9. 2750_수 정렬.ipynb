{
 "cells": [
  {
   "cell_type": "code",
   "execution_count": 11,
   "metadata": {},
   "outputs": [
    {
     "ename": "SyntaxError",
     "evalue": "invalid syntax (<ipython-input-11-63d4500cb65d>, line 7)",
     "output_type": "error",
     "traceback": [
      "\u001b[0;36m  File \u001b[0;32m\"<ipython-input-11-63d4500cb65d>\"\u001b[0;36m, line \u001b[0;32m7\u001b[0m\n\u001b[0;31m    nums.sort()\u001b[0m\n\u001b[0m    ^\u001b[0m\n\u001b[0;31mSyntaxError\u001b[0m\u001b[0;31m:\u001b[0m invalid syntax\n"
     ]
    }
   ],
   "source": [
    "#오름차순 정렬\n",
    "n = 5\n",
    "nums = list()\n",
    "for _ in range(n):\n",
    "    nums.append(int(input())\n",
    "\n",
    "nums.sort()\n",
    "\n",
    "print('\\n'.join(nums))"
   ]
  },
  {
   "cell_type": "code",
   "execution_count": 14,
   "metadata": {},
   "outputs": [
    {
     "name": "stdout",
     "output_type": "stream",
     "text": [
      "1\n",
      "2\n",
      "3\n",
      "4\n",
      "5\n"
     ]
    }
   ],
   "source": [
    "nums = [5,2,3,4,1]\n",
    "nums.sort()\n",
    "nums = map(str,nums)\n",
    "print('\\n'.join(nums))"
   ]
  },
  {
   "cell_type": "code",
   "execution_count": null,
   "metadata": {},
   "outputs": [],
   "source": [
    "'''맞았습니다!!'''\n",
    "n = int(input())\n",
    "nums = list()\n",
    "\n",
    "for i in range(n):\n",
    "    nums.append(int(input()))\n",
    "   \n",
    "nums.sort()\n",
    "nums = map(str, nums)\n",
    "print('\\n'.join(nums))"
   ]
  },
  {
   "cell_type": "code",
   "execution_count": 15,
   "metadata": {},
   "outputs": [
    {
     "name": "stdout",
     "output_type": "stream",
     "text": [
      "1\n",
      "2\n",
      "3\n",
      "4\n",
      "5\n"
     ]
    }
   ],
   "source": [
    "#선택 정렬 알고리즘 사용해보기\n",
    "n = 5\n",
    "nums = [5,2,3,4,1]\n",
    "\n",
    "for i in range(n):\n",
    "    min_idx = i\n",
    "    for j in range(i+1,n):\n",
    "        if nums[min_idx] > nums[j]:\n",
    "            min_idx = j\n",
    "    nums[i], nums[min_idx] = nums[min_idx],nums[i]\n",
    "\n",
    "for i in nums:\n",
    "    print(i)"
   ]
  },
  {
   "cell_type": "code",
   "execution_count": null,
   "metadata": {},
   "outputs": [],
   "source": []
  }
 ],
 "metadata": {
  "kernelspec": {
   "display_name": "Python 3",
   "language": "python",
   "name": "python3"
  },
  "language_info": {
   "codemirror_mode": {
    "name": "ipython",
    "version": 3
   },
   "file_extension": ".py",
   "mimetype": "text/x-python",
   "name": "python",
   "nbconvert_exporter": "python",
   "pygments_lexer": "ipython3",
   "version": "3.8.3"
  }
 },
 "nbformat": 4,
 "nbformat_minor": 4
}
