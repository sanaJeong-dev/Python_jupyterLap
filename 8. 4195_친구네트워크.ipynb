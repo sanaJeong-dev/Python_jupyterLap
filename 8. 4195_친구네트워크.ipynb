{
 "cells": [
  {
   "cell_type": "code",
   "execution_count": null,
   "metadata": {},
   "outputs": [],
   "source": [
    "# test_case = 2\n",
    "\n",
    "def adding(left, right, key, friends):\n",
    "    network = set()\n",
    "    for i in friends[key]:\n",
    "        network.add(i)\n",
    "        if i != left and i != right:\n",
    "            adding(left, right, key, friends)\n",
    "    print(friends)\n",
    "    return network\n",
    "\n",
    "# for _ in range(test_case):\n",
    "num = 3\n",
    "friends = dict()\n",
    "names = set()\n",
    "for _ in range(num):\n",
    "    left, right = input().split(' ')\n",
    "    # 나왔던 이름인지\n",
    "    if left in names:\n",
    "        friends[left].append(right)\n",
    "        print('friends')\n",
    "    else:\n",
    "        friends[left] = [right]\n",
    "        \n",
    "    if right in names:\n",
    "        friends[right].append(left)\n",
    "    else:\n",
    "        friends[right] = [left]\n",
    "    names.add(left)\n",
    "    names.add(right)\n",
    "    print(friends)\n",
    "    \n",
    "    l = adding(left, right, left, friends)\n",
    "    r = adding(left, right, right, friends)\n",
    "    l.extend(r)\n",
    "    print(len(l))\n",
    "\n",
    "# A B\n",
    "# B C\n",
    "# C D"
   ]
  },
  {
   "cell_type": "code",
   "execution_count": 12,
   "metadata": {},
   "outputs": [
    {
     "data": {
      "text/plain": [
       "21"
      ]
     },
     "execution_count": 12,
     "metadata": {},
     "output_type": "execute_result"
    }
   ],
   "source": [
    "def function(n, m):\n",
    "    return n * m\n",
    "\n",
    "a = 7\n",
    "b = 3\n",
    "\n",
    "function(7,3)\n",
    "\n"
   ]
  },
  {
   "cell_type": "code",
   "execution_count": 18,
   "metadata": {},
   "outputs": [
    {
     "name": "stdout",
     "output_type": "stream",
     "text": [
      "key_set is {'a'}\n",
      "network added b\n",
      "key_set is {'a', 'b'}\n",
      "network added a\n",
      "network added c\n",
      "key_set is {'a', 'c', 'b'}\n"
     ]
    },
    {
     "ename": "KeyError",
     "evalue": "'c'",
     "output_type": "error",
     "traceback": [
      "\u001b[0;31m---------------------------------------------------------------------------\u001b[0m",
      "\u001b[0;31mKeyError\u001b[0m                                  Traceback (most recent call last)",
      "\u001b[0;32m<ipython-input-18-bca026e4c639>\u001b[0m in \u001b[0;36m<module>\u001b[0;34m\u001b[0m\n\u001b[1;32m     17\u001b[0m \u001b[0;34m\u001b[0m\u001b[0m\n\u001b[1;32m     18\u001b[0m \u001b[0mkey_set\u001b[0m \u001b[0;34m=\u001b[0m \u001b[0mset\u001b[0m\u001b[0;34m(\u001b[0m\u001b[0;34m)\u001b[0m\u001b[0;34m\u001b[0m\u001b[0;34m\u001b[0m\u001b[0m\n\u001b[0;32m---> 19\u001b[0;31m \u001b[0mreturned_set\u001b[0m \u001b[0;34m=\u001b[0m \u001b[0madding\u001b[0m\u001b[0;34m(\u001b[0m\u001b[0mleft\u001b[0m\u001b[0;34m,\u001b[0m \u001b[0mfriends\u001b[0m\u001b[0;34m,\u001b[0m \u001b[0mkey_set\u001b[0m\u001b[0;34m)\u001b[0m\u001b[0;34m\u001b[0m\u001b[0;34m\u001b[0m\u001b[0m\n\u001b[0m\u001b[1;32m     20\u001b[0m \u001b[0mprint\u001b[0m\u001b[0;34m(\u001b[0m\u001b[0;34m'returned'\u001b[0m\u001b[0;34m,\u001b[0m\u001b[0mreturned_set\u001b[0m\u001b[0;34m)\u001b[0m\u001b[0;34m\u001b[0m\u001b[0;34m\u001b[0m\u001b[0m\n",
      "\u001b[0;32m<ipython-input-18-bca026e4c639>\u001b[0m in \u001b[0;36madding\u001b[0;34m(key, friends, keys)\u001b[0m\n\u001b[1;32m      7\u001b[0m         \u001b[0mprint\u001b[0m\u001b[0;34m(\u001b[0m\u001b[0;34m'network added'\u001b[0m\u001b[0;34m,\u001b[0m\u001b[0mi\u001b[0m\u001b[0;34m)\u001b[0m\u001b[0;34m\u001b[0m\u001b[0;34m\u001b[0m\u001b[0m\n\u001b[1;32m      8\u001b[0m         \u001b[0;32mif\u001b[0m \u001b[0mi\u001b[0m \u001b[0;34m!=\u001b[0m \u001b[0mkey\u001b[0m \u001b[0;32mand\u001b[0m \u001b[0mi\u001b[0m \u001b[0;32mnot\u001b[0m \u001b[0;32min\u001b[0m \u001b[0mkeys\u001b[0m\u001b[0;34m:\u001b[0m\u001b[0;34m\u001b[0m\u001b[0;34m\u001b[0m\u001b[0m\n\u001b[0;32m----> 9\u001b[0;31m             \u001b[0madding\u001b[0m\u001b[0;34m(\u001b[0m\u001b[0mi\u001b[0m\u001b[0;34m,\u001b[0m \u001b[0mfriends\u001b[0m\u001b[0;34m,\u001b[0m \u001b[0mkeys\u001b[0m\u001b[0;34m)\u001b[0m\u001b[0;34m\u001b[0m\u001b[0;34m\u001b[0m\u001b[0m\n\u001b[0m\u001b[1;32m     10\u001b[0m     \u001b[0mprint\u001b[0m\u001b[0;34m(\u001b[0m\u001b[0mfriends\u001b[0m\u001b[0;34m)\u001b[0m\u001b[0;34m\u001b[0m\u001b[0;34m\u001b[0m\u001b[0m\n\u001b[1;32m     11\u001b[0m     \u001b[0;32mreturn\u001b[0m \u001b[0mnetwork\u001b[0m\u001b[0;34m\u001b[0m\u001b[0;34m\u001b[0m\u001b[0m\n",
      "\u001b[0;32m<ipython-input-18-bca026e4c639>\u001b[0m in \u001b[0;36madding\u001b[0;34m(key, friends, keys)\u001b[0m\n\u001b[1;32m      7\u001b[0m         \u001b[0mprint\u001b[0m\u001b[0;34m(\u001b[0m\u001b[0;34m'network added'\u001b[0m\u001b[0;34m,\u001b[0m\u001b[0mi\u001b[0m\u001b[0;34m)\u001b[0m\u001b[0;34m\u001b[0m\u001b[0;34m\u001b[0m\u001b[0m\n\u001b[1;32m      8\u001b[0m         \u001b[0;32mif\u001b[0m \u001b[0mi\u001b[0m \u001b[0;34m!=\u001b[0m \u001b[0mkey\u001b[0m \u001b[0;32mand\u001b[0m \u001b[0mi\u001b[0m \u001b[0;32mnot\u001b[0m \u001b[0;32min\u001b[0m \u001b[0mkeys\u001b[0m\u001b[0;34m:\u001b[0m\u001b[0;34m\u001b[0m\u001b[0;34m\u001b[0m\u001b[0m\n\u001b[0;32m----> 9\u001b[0;31m             \u001b[0madding\u001b[0m\u001b[0;34m(\u001b[0m\u001b[0mi\u001b[0m\u001b[0;34m,\u001b[0m \u001b[0mfriends\u001b[0m\u001b[0;34m,\u001b[0m \u001b[0mkeys\u001b[0m\u001b[0;34m)\u001b[0m\u001b[0;34m\u001b[0m\u001b[0;34m\u001b[0m\u001b[0m\n\u001b[0m\u001b[1;32m     10\u001b[0m     \u001b[0mprint\u001b[0m\u001b[0;34m(\u001b[0m\u001b[0mfriends\u001b[0m\u001b[0;34m)\u001b[0m\u001b[0;34m\u001b[0m\u001b[0;34m\u001b[0m\u001b[0m\n\u001b[1;32m     11\u001b[0m     \u001b[0;32mreturn\u001b[0m \u001b[0mnetwork\u001b[0m\u001b[0;34m\u001b[0m\u001b[0;34m\u001b[0m\u001b[0m\n",
      "\u001b[0;32m<ipython-input-18-bca026e4c639>\u001b[0m in \u001b[0;36madding\u001b[0;34m(key, friends, keys)\u001b[0m\n\u001b[1;32m      3\u001b[0m     \u001b[0mkeys\u001b[0m\u001b[0;34m.\u001b[0m\u001b[0madd\u001b[0m\u001b[0;34m(\u001b[0m\u001b[0mkey\u001b[0m\u001b[0;34m)\u001b[0m\u001b[0;34m\u001b[0m\u001b[0;34m\u001b[0m\u001b[0m\n\u001b[1;32m      4\u001b[0m     \u001b[0mprint\u001b[0m\u001b[0;34m(\u001b[0m\u001b[0;34m'key_set is'\u001b[0m\u001b[0;34m,\u001b[0m \u001b[0mkeys\u001b[0m\u001b[0;34m)\u001b[0m\u001b[0;34m\u001b[0m\u001b[0;34m\u001b[0m\u001b[0m\n\u001b[0;32m----> 5\u001b[0;31m     \u001b[0;32mfor\u001b[0m \u001b[0mi\u001b[0m \u001b[0;32min\u001b[0m \u001b[0mfriends\u001b[0m\u001b[0;34m[\u001b[0m\u001b[0mkey\u001b[0m\u001b[0;34m]\u001b[0m\u001b[0;34m:\u001b[0m\u001b[0;34m\u001b[0m\u001b[0;34m\u001b[0m\u001b[0m\n\u001b[0m\u001b[1;32m      6\u001b[0m         \u001b[0mnetwork\u001b[0m\u001b[0;34m.\u001b[0m\u001b[0madd\u001b[0m\u001b[0;34m(\u001b[0m\u001b[0mi\u001b[0m\u001b[0;34m)\u001b[0m\u001b[0;34m\u001b[0m\u001b[0;34m\u001b[0m\u001b[0m\n\u001b[1;32m      7\u001b[0m         \u001b[0mprint\u001b[0m\u001b[0;34m(\u001b[0m\u001b[0;34m'network added'\u001b[0m\u001b[0;34m,\u001b[0m\u001b[0mi\u001b[0m\u001b[0;34m)\u001b[0m\u001b[0;34m\u001b[0m\u001b[0;34m\u001b[0m\u001b[0m\n",
      "\u001b[0;31mKeyError\u001b[0m: 'c'"
     ]
    }
   ],
   "source": [
    "def adding(key, friends, keys):\n",
    "    network = set()\n",
    "    keys.add(key)\n",
    "    print('key_set is', keys)\n",
    "    for i in friends[key]:\n",
    "        network.add(i)\n",
    "        print('network added',i)\n",
    "        if i != key and i not in keys:\n",
    "            adding(i, friends, keys)\n",
    "    print(friends)\n",
    "    return network\n",
    "\n",
    "friends = {'a': ['b'], 'b': ['a', 'c', 'd']}\n",
    "friends\n",
    "left = 'a'\n",
    "# right = 'b'\n",
    "\n",
    "key_set = set()\n",
    "returned_set = adding(left, friends, key_set)\n",
    "print('returned',returned_set)\n"
   ]
  },
  {
   "cell_type": "code",
   "execution_count": 10,
   "metadata": {
    "jupyter": {
     "source_hidden": true
    }
   },
   "outputs": [
    {
     "name": "stdin",
     "output_type": "stream",
     "text": [
      " Fred Barney\n",
      " Barney Betty\n",
      " Betty Wilma\n"
     ]
    },
    {
     "name": "stdout",
     "output_type": "stream",
     "text": [
      "{<generator object <genexpr> at 0x7fd16c48dc80>}\n"
     ]
    }
   ],
   "source": [
    "class Person:\n",
    "    def __init__(self, name):\n",
    "        self.name = name\n",
    "        self.friend = []\n",
    "\n",
    "testcase = 1\n",
    "for each_case in range(testcase):\n",
    "    relation_count = 3\n",
    "    people = set()\n",
    "    for adding in range(relation_count):\n",
    "        people.add(i for i in input().split())\n",
    "        \n",
    "    print(people)\n",
    "    \n",
    "    for person in people:\n",
    "        person = \n",
    "    \n",
    "# john = Person('John')\n",
    "# john.friend\n",
    "\n",
    "\n",
    "\n",
    "\n",
    "\n",
    "\n",
    "# Fred Barney\n",
    "# Barney Betty\n",
    "# Betty Wilma"
   ]
  },
  {
   "cell_type": "code",
   "execution_count": 11,
   "metadata": {
    "jupyter": {
     "source_hidden": true
    }
   },
   "outputs": [
    {
     "name": "stdout",
     "output_type": "stream",
     "text": [
      "2 2 3 2 "
     ]
    }
   ],
   "source": [
    "'''해설'''\n",
    "\n",
    "# 해시를 활용한 Union-Find 알고리즘(합집합 찾기)를 이용해 풀 수 있다\n",
    "    #부모테이블을 이용해서 본인이 어디에 속해있는지 찾는 방법\n",
    "# Python에서는 dictionary 자료형을 해시처럼 사용할 수 있다.\n",
    "# 1 - 4 - 3이 연결되어도 사실 3->1 연결된것과 같다 (재귀적)\n",
    "\n",
    "def find(x):\n",
    "    if x == parent[x]:\n",
    "        return x\n",
    "    else:\n",
    "        p = find(parent[x])\n",
    "        parent[x] = p     #자식들이 줄줄이 연결 아니고 형제로 통일됨 <- 재귀적 용법.\n",
    "        return parent[x]  #한칸만 올라가면 되니 바로 리턴\n",
    "    \n",
    "def union(x, y):\n",
    "    x = find(x)  #x의부모, y의부모 캐내서\n",
    "    y = find(y)\n",
    "    \n",
    "    parent[y] = x  #임의로 y의부모를 x로 바꿈 -> 같은 라인이 됨\n",
    "    \n",
    "    \n",
    "    \n",
    "parent = []\n",
    "\n",
    "for i in range(0,5):\n",
    "    parent.append(i)\n",
    "\n",
    "union(1, 4)\n",
    "union(2, 4)\n",
    "\n",
    "for i in range(1, len(parent)):\n",
    "    print(find(i), end = ' ')"
   ]
  },
  {
   "cell_type": "code",
   "execution_count": 19,
   "metadata": {},
   "outputs": [
    {
     "name": "stdout",
     "output_type": "stream",
     "text": [
      "2 2 3 2 "
     ]
    }
   ],
   "source": [
    "'''해설'''\n",
    "\n",
    "#해시를 활용한 Union-Find(합집합찾기) 알고리즘\n",
    "#Union-Find: 부모테이블을 이용해 현재 포함된 집합을 찾는 원리\n",
    "\n",
    "def find(x):\n",
    "    #현재 가리키고있는게 자기자신이라면\n",
    "    if x == parent[x]:\n",
    "        return x\n",
    "    else:\n",
    "        #아니라면\n",
    "        p = find(parent[x])\n",
    "        parent[x] = p    #가장 상위 원소로 부모를 바꿔치기해서 통일하는것\n",
    "        return parent[x]\n",
    "\n",
    "def union(x, y):\n",
    "    x = find(x)\n",
    "    y = find(y)\n",
    "    \n",
    "    parent[y] = x\n",
    "    \n",
    "parent = []\n",
    "\n",
    "for i in range(5):\n",
    "    parent.append(i)\n",
    "\n",
    "union(1, 4)\n",
    "union(2, 4)\n",
    "\n",
    "for i in range(1, len(parent)):\n",
    "    print(find(i), end = ' ')\n",
    "    # 출력 : 2 2 3 2 <- 2가 대장인 집합 하나랑 3이 대장인 집합 하나가 있구나\n",
    "    \n",
    "    \n",
    "'''문제에 적용(Union-Find + 네트워크 크기 추가)'''\n",
    "def find(x):\n",
    "    if x == parent[x]:\n",
    "        return x\n",
    "    else:\n",
    "        p = find(parent[x])\n",
    "        parent[x] = p\n",
    "        return parent[x]\n",
    "    \n",
    "def union(x, y):\n",
    "    x = find(x)\n",
    "    y = find(y) #상위노드로 변경 후\n",
    "    \n",
    "    #둘이 다를때만\n",
    "    if x != y:\n",
    "        parent[y] = x\n",
    "        number[x] += number[y] #둘의 네트워크수를 합친다...\n",
    "    \n",
    "test_case = int(input())\n",
    "\n",
    "for _ in range(test_case):\n",
    "    parent = dict()\n",
    "    number = dict()\n",
    "    \n",
    "    f = int(input())\n",
    "\n",
    "    for _ in range(f):\n",
    "        x, y = input.split(' ')\n",
    "        \n",
    "        if x not in parent:   #중요! key로써 없는 경우 찾으려면 not in \n",
    "            parent[x] = x\n",
    "            number[x] = 1\n",
    "        if y not in parent:\n",
    "            parent[y] = y\n",
    "            number[y] = 1     #number은 원소 갯수, 혼자있으니까 초기화 1\n",
    "            \n",
    "        union (x, y)\n",
    "        print(number[find(x)])   #부모노드의 number을 출력\n",
    "            "
   ]
  },
  {
   "cell_type": "code",
   "execution_count": null,
   "metadata": {},
   "outputs": [],
   "source": []
  }
 ],
 "metadata": {
  "kernelspec": {
   "display_name": "Python 3",
   "language": "python",
   "name": "python3"
  },
  "language_info": {
   "codemirror_mode": {
    "name": "ipython",
    "version": 3
   },
   "file_extension": ".py",
   "mimetype": "text/x-python",
   "name": "python",
   "nbconvert_exporter": "python",
   "pygments_lexer": "ipython3",
   "version": "3.8.3"
  }
 },
 "nbformat": 4,
 "nbformat_minor": 4
}
