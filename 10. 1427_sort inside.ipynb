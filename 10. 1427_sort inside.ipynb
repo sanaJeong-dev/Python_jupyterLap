{
 "cells": [
  {
   "cell_type": "code",
   "execution_count": 2,
   "metadata": {},
   "outputs": [
    {
     "data": {
      "text/plain": [
       "4"
      ]
     },
     "execution_count": 2,
     "metadata": {},
     "output_type": "execute_result"
    }
   ],
   "source": [
    "# len찾기\n",
    "total = '2143'\n",
    "len(total)"
   ]
  },
  {
   "cell_type": "code",
   "execution_count": 19,
   "metadata": {},
   "outputs": [
    {
     "name": "stdout",
     "output_type": "stream",
     "text": [
      "1000\n",
      "total 2143 i 1 append 2\n",
      "100\n",
      "total 143 i 2 append 1\n",
      "10\n",
      "total 43 i 3 append 4\n",
      "1\n",
      "total 3 i 4 append 3\n",
      "[2, 1, 4, 3]\n",
      "4321\n"
     ]
    }
   ],
   "source": [
    "l = 4\n",
    "total = 2143\n",
    "result = list()\n",
    "\n",
    "for i in range(1, l+1):\n",
    "    num = total // 10**(l-i)\n",
    "    print(10**(l-i))\n",
    "    result.append(num)\n",
    "    print('total', total, 'i', i, 'append', num)\n",
    "    total = total - num * 10**(l-i)\n",
    "    \n",
    "print(result)\n",
    "result.sort(reverse = True)\n",
    "result = map(str, result)\n",
    "print(''.join(result))\n"
   ]
  },
  {
   "cell_type": "code",
   "execution_count": 8,
   "metadata": {
    "jupyter": {
     "source_hidden": true
    }
   },
   "outputs": [
    {
     "name": "stdout",
     "output_type": "stream",
     "text": [
      "4\n"
     ]
    }
   ],
   "source": [
    "n = 2143\n",
    "l = len(str(n))        #=4\n",
    "print(l)\n",
    "# result = list()\n",
    "\n",
    "# for each in range(l):\n",
    "#     max = int(n[each])\n",
    "#     for compare in range(each+1, l):\n",
    "#         if max < int(n[compare]):\n",
    "#             max = int(n[compare])\n",
    "#     result.append(max)\n",
    "\n",
    "# print(result)\n",
    "        "
   ]
  },
  {
   "cell_type": "code",
   "execution_count": 9,
   "metadata": {},
   "outputs": [
    {
     "data": {
      "text/plain": [
       "2"
      ]
     },
     "execution_count": 9,
     "metadata": {},
     "output_type": "execute_result"
    }
   ],
   "source": [
    "2143 // 1000"
   ]
  },
  {
   "cell_type": "code",
   "execution_count": 60,
   "metadata": {
    "jupyter": {
     "source_hidden": true
    }
   },
   "outputs": [
    {
     "name": "stdin",
     "output_type": "stream",
     "text": [
      " 2431\n"
     ]
    },
    {
     "name": "stdout",
     "output_type": "stream",
     "text": [
      "4321\n"
     ]
    }
   ],
   "source": [
    "n = int(input())\n",
    "l = len(str(n))        #l=4\n",
    "nums_list = list()\n",
    "\n",
    "# 각각 10의자리 별 원소로 넣기\n",
    "for i in range(1, l+1):\n",
    "    j = l - i\n",
    "    ship = 10**j\n",
    "    mox = n // ship\n",
    "    n = n % ship\n",
    "#     print('j', j, 'mox', mox, 'n', n)\n",
    "    nums_list.append(mox)\n",
    "#     print(nums_list)\n",
    "    \n",
    "#내림차순 정렬\n",
    "nums_list.sort(reverse=True)\n",
    "# print(nums_list)\n",
    "\n",
    "stred = list(map(str, nums_list))\n",
    "print(''.join(stred))"
   ]
  },
  {
   "cell_type": "code",
   "execution_count": 61,
   "metadata": {
    "jupyter": {
     "source_hidden": true
    }
   },
   "outputs": [
    {
     "name": "stdin",
     "output_type": "stream",
     "text": [
      " 2554757684\n"
     ]
    },
    {
     "name": "stdout",
     "output_type": "stream",
     "text": [
      "8776555442"
     ]
    }
   ],
   "source": [
    "'''해설'''\n",
    "#이런 생각 어떻게 해?\n",
    "\n",
    "array = input()       #str로 바로 받았네\n",
    "\n",
    "for i in range(9, -1, -1):   #9~0을 찾아다님\n",
    "    for j in array:          #array의 인덱스용 j\n",
    "        if int(j) == i:      #숫자화 해서 똑같을 때 마다\n",
    "            print(i, end='') #프린트"
   ]
  },
  {
   "cell_type": "code",
   "execution_count": 20,
   "metadata": {},
   "outputs": [
    {
     "name": "stdin",
     "output_type": "stream",
     "text": [
      " 9201348\n"
     ]
    },
    {
     "name": "stdout",
     "output_type": "stream",
     "text": [
      "9843210\n"
     ]
    }
   ],
   "source": [
    "# 정리\n",
    "total = input()\n",
    "l = len(total)\n",
    "total = int(total)\n",
    "result = list()\n",
    "\n",
    "for i in range(1, l+1):\n",
    "    num = total // 10**(l-i)\n",
    "    result.append(num)\n",
    "    total -= num * 10**(l-i)\n",
    "    \n",
    "result.sort(reverse = True)\n",
    "result = map(str, result)\n",
    "print(''.join(result))\n"
   ]
  },
  {
   "cell_type": "code",
   "execution_count": null,
   "metadata": {},
   "outputs": [],
   "source": [
    "# 해설\n",
    "# 9 ~ 0 의 갯수만 확인하면 됨\n",
    "# 24823 중 8이 1개 -> 8\n",
    "# 4가 1개 -> 4\n",
    "# 2가 2개 -> 22\n",
    "\n",
    "array = input()\n",
    "\n",
    "for i in range(9, -1, -1): ## 9,8,...0\n",
    "    for j in array:\n",
    "        if int(j) == i:\n",
    "            print(i, end='') #배열에 안 넣고 프린트 그때그때 하는데 한줄로 보이는 법"
   ]
  }
 ],
 "metadata": {
  "kernelspec": {
   "display_name": "Python 3",
   "language": "python",
   "name": "python3"
  },
  "language_info": {
   "codemirror_mode": {
    "name": "ipython",
    "version": 3
   },
   "file_extension": ".py",
   "mimetype": "text/x-python",
   "name": "python",
   "nbconvert_exporter": "python",
   "pygments_lexer": "ipython3",
   "version": "3.8.3"
  }
 },
 "nbformat": 4,
 "nbformat_minor": 4
}
