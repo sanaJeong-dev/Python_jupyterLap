{
 "cells": [
  {
   "cell_type": "code",
   "execution_count": 1,
   "metadata": {},
   "outputs": [
    {
     "name": "stdin",
     "output_type": "stream",
     "text": [
      " 5 21\n"
     ]
    },
    {
     "name": "stdout",
     "output_type": "stream",
     "text": [
      "5 21\n"
     ]
    },
    {
     "name": "stdin",
     "output_type": "stream",
     "text": [
      " 5 6 7 8 9\n"
     ]
    },
    {
     "data": {
      "text/plain": [
       "[5, 6, 7, 8, 9]"
      ]
     },
     "execution_count": 1,
     "metadata": {},
     "output_type": "execute_result"
    }
   ],
   "source": [
    "n, m = input().split(' ')\n",
    "print(n, m)\n",
    "cards = list(map(int, input().split(' ')))\n",
    "cards"
   ]
  },
  {
   "cell_type": "code",
   "execution_count": 9,
   "metadata": {},
   "outputs": [],
   "source": [
    "n, m = 5, 21\n",
    "cards = [5,6,7,8,9]"
   ]
  },
  {
   "cell_type": "code",
   "execution_count": 12,
   "metadata": {},
   "outputs": [
    {
     "name": "stdout",
     "output_type": "stream",
     "text": [
      "[[5, 6, 7]]\n"
     ]
    }
   ],
   "source": [
    "sums = []\n",
    "a = len(cards)-2  #3\n",
    "for i in range(a):\n",
    "    for j in range(i+1, a):\n",
    "        for k in range(j+1, a):\n",
    "            sums.append([cards[i],cards[j],cards[k]])\n",
    "\n",
    "print(sums)"
   ]
  },
  {
   "cell_type": "code",
   "execution_count": 13,
   "metadata": {},
   "outputs": [
    {
     "name": "stdout",
     "output_type": "stream",
     "text": [
      "2\n",
      "3\n"
     ]
    }
   ],
   "source": [
    "for i in range(2,4):\n",
    "    print(i)"
   ]
  },
  {
   "cell_type": "code",
   "execution_count": 21,
   "metadata": {},
   "outputs": [
    {
     "name": "stdout",
     "output_type": "stream",
     "text": [
      "[18, 19, 20, 20, 21, 22, 21, 22, 23, 24]\n"
     ]
    }
   ],
   "source": [
    "sums = []\n",
    "for i in range(len(cards) - 2):\n",
    "    for j in range(i+1, len(cards)-1):\n",
    "        for k in range(j+1, len(cards)):\n",
    "            sums.append(cards[i] + cards[j] + cards[k])\n",
    "\n",
    "print(sums)"
   ]
  },
  {
   "cell_type": "code",
   "execution_count": 22,
   "metadata": {},
   "outputs": [
    {
     "data": {
      "text/plain": [
       "[18, 19, 20, 20, 21, 21, 22, 22, 23, 24]"
      ]
     },
     "execution_count": 22,
     "metadata": {},
     "output_type": "execute_result"
    }
   ],
   "source": [
    "sums.sort()\n",
    "sums"
   ]
  },
  {
   "cell_type": "code",
   "execution_count": 23,
   "metadata": {},
   "outputs": [
    {
     "data": {
      "text/plain": [
       "21"
      ]
     },
     "execution_count": 23,
     "metadata": {},
     "output_type": "execute_result"
    }
   ],
   "source": [
    "m"
   ]
  },
  {
   "cell_type": "code",
   "execution_count": 24,
   "metadata": {},
   "outputs": [
    {
     "name": "stdout",
     "output_type": "stream",
     "text": [
      "21\n"
     ]
    }
   ],
   "source": [
    "for i in range(len(sums)):\n",
    "    if sums[i] > m:\n",
    "        print(sums[i-1])\n",
    "        break"
   ]
  },
  {
   "cell_type": "code",
   "execution_count": null,
   "metadata": {},
   "outputs": [],
   "source": [
    "#최종 제출 - 틀림\n",
    "n, m = map(int, input().split(' '))\n",
    "cards = list(map(int, input().split(' ')))\n",
    "\n",
    "sums = []\n",
    "for i in range(len(cards) - 2):\n",
    "    for j in range(i+1, len(cards)-1):\n",
    "        for k in range(j+1, len(cards)):\n",
    "            sums.append(cards[i] + cards[j] + cards[k])\n",
    "#             print(cards[i], cards[j], cards[k])\n",
    "\n",
    "sums.sort()\n",
    "# print(sums)\n",
    "\n",
    "for i in range(len(sums)):\n",
    "    if sums[i] > m:\n",
    "        print(sums[i-1])\n",
    "        break\n",
    "        \n",
    "##마지막 for문이 틀렸음\n",
    "# for maximum in range(len(sums)):\n",
    "#     if sums[maximum] == findOut:\n",
    "#         print(sums[maximum])\n",
    "#         break\n",
    "#     elif sums[maximum] > findOut:\n",
    "#         print(sums[maximum-1])\n",
    "#         break\n",
    "#     elif maximum == len(sums)-1:\n",
    "#         print(sums[maximum])\n",
    "\n",
    "#정확한 수가 있을 때, 약간 넘는 수가 중간에 있을 때, 제일 끝이여도 안 넘을 때 세가지 고려\n",
    "\n",
    "\n",
    "#예제\n",
    "#10 500\n",
    "#93 181 245 214 315 36 185 138 216 295"
   ]
  },
  {
   "cell_type": "code",
   "execution_count": null,
   "metadata": {},
   "outputs": [],
   "source": [
    "\n"
   ]
  },
  {
   "cell_type": "code",
   "execution_count": null,
   "metadata": {},
   "outputs": [],
   "source": [
    "# 풀이\n",
    "n, m = list(map(int, input().split(' ')))\n",
    "data = list(map(int, input().split(' ')))\n",
    "\n",
    "result = 0\n",
    "length = len(data)\n",
    "\n",
    "for i in range(0, length):  #length는 내가 더 정확함\n",
    "    for j in range(i+1, length):\n",
    "        for k in range(j + 1, length):\n",
    "            sum_value = data[i] + data[j] + data[k]\n",
    "            if sum_value <= m:             # 1. 21보다 크면 나가리 == 21 같거나 작을 때만 진행\n",
    "                result = max(result, sum_value)   # max함수로 갱신\n",
    "                \n",
    "print(result)"
   ]
  },
  {
   "cell_type": "code",
   "execution_count": null,
   "metadata": {},
   "outputs": [],
   "source": []
  },
  {
   "cell_type": "code",
   "execution_count": null,
   "metadata": {},
   "outputs": [],
   "source": []
  },
  {
   "cell_type": "code",
   "execution_count": null,
   "metadata": {},
   "outputs": [],
   "source": []
  }
 ],
 "metadata": {
  "kernelspec": {
   "display_name": "Python 3",
   "language": "python",
   "name": "python3"
  },
  "language_info": {
   "codemirror_mode": {
    "name": "ipython",
    "version": 3
   },
   "file_extension": ".py",
   "mimetype": "text/x-python",
   "name": "python",
   "nbconvert_exporter": "python",
   "pygments_lexer": "ipython3",
   "version": "3.8.3"
  }
 },
 "nbformat": 4,
 "nbformat_minor": 4
}
