{
 "cells": [
  {
   "cell_type": "code",
   "execution_count": 15,
   "metadata": {
    "jupyter": {
     "source_hidden": true
    }
   },
   "outputs": [
    {
     "name": "stdout",
     "output_type": "stream",
     "text": [
      "0 1\n",
      "1 1\n",
      "2 9\n",
      "3 1\n",
      "4 1\n",
      "5 1\n"
     ]
    }
   ],
   "source": [
    "'''enumerate 연습'''\n",
    "\n",
    "n = 6\n",
    "find = 0\n",
    "given = [1, 1, 9, 1, 1, 1]\n",
    "for i,j in enumerate(given):\n",
    "    print(i,j)\n",
    "queue = [ (i,j) for i, j in enumerate(given)]"
   ]
  },
  {
   "cell_type": "code",
   "execution_count": 1,
   "metadata": {},
   "outputs": [
    {
     "name": "stdout",
     "output_type": "stream",
     "text": [
      "0 5\n"
     ]
    }
   ],
   "source": [
    "'''enumerate 연습'''\n",
    "\n",
    "n = 1\n",
    "find = 0\n",
    "given = [5]\n",
    "for i,j in enumerate(given):\n",
    "    print(i,j)\n",
    "queue = [ (i,j) for i, j in enumerate(given)]"
   ]
  },
  {
   "cell_type": "code",
   "execution_count": 2,
   "metadata": {},
   "outputs": [
    {
     "name": "stdout",
     "output_type": "stream",
     "text": [
      "1\n"
     ]
    }
   ],
   "source": [
    "count = 0\n",
    "while queue:\n",
    "    max = 1\n",
    "    for i, j in queue:\n",
    "        if max < j:\n",
    "            max = j\n",
    "    #max추출 완료\n",
    "    \n",
    "    if queue[0][1] == max:\n",
    "        popped = queue.pop(0)\n",
    "        count += 1\n",
    "        if popped[0] == find:\n",
    "            print(count)\n",
    "            exit(0)\n",
    "    else:\n",
    "        popped = queue.pop(0)\n",
    "        queue.append(popped)\n"
   ]
  },
  {
   "cell_type": "code",
   "execution_count": null,
   "metadata": {},
   "outputs": [],
   "source": [
    "'''정리'''\n",
    "testcase = int(input())\n",
    "\n",
    "result = []\n",
    "\n",
    "for _ in range(testcase):\n",
    "    n,find = list(map(int,input().split(' ')))\n",
    "    given = list(map(int,input().split(' ')))\n",
    "    queue = [ (i,j) for i, j in enumerate(given)]\n",
    "\n",
    "    count = 0\n",
    "    while queue:\n",
    "        max = 1\n",
    "        for i, j in queue:\n",
    "            if max < j:\n",
    "                max = j\n",
    "        #max추출 완료\n",
    "\n",
    "        if queue[0][1] == max:\n",
    "            popped = queue.pop(0)\n",
    "            count += 1\n",
    "            if popped[0] == find:\n",
    "                result.append(count)\n",
    "        else:\n",
    "            popped = queue.pop(0)\n",
    "            queue.append(popped)\n",
    "\n",
    "result = map(str, result)\n",
    "print('\\n'.join(result))"
   ]
  },
  {
   "cell_type": "code",
   "execution_count": null,
   "metadata": {},
   "outputs": [],
   "source": [
    "'''input연습'''\n",
    "testcase = int(input())\n",
    "\n",
    "for _ in range(testcase):\n",
    "    n,find = list(map(int,input().split(' ')))\n",
    "    given = list(map(int,input().split(' ')))\n",
    "    queue = [ (i,j) for i, j in enumerate(given)]\n",
    "\n"
   ]
  },
  {
   "cell_type": "code",
   "execution_count": null,
   "metadata": {},
   "outputs": [],
   "source": [
    "'''정리'''\n",
    "testcase = int(input())\n",
    "\n",
    "result = []\n",
    "\n",
    "for _ in range(testcase):\n",
    "    n,find = list(map(int,input().split(' ')))\n",
    "    given = list(map(int,input().split(' ')))\n",
    "    queue = [ (i,j) for i, j in enumerate(given)]\n",
    "\n"
   ]
  },
  {
   "cell_type": "code",
   "execution_count": null,
   "metadata": {},
   "outputs": [],
   "source": []
  }
 ],
 "metadata": {
  "kernelspec": {
   "display_name": "Python 3",
   "language": "python",
   "name": "python3"
  },
  "language_info": {
   "codemirror_mode": {
    "name": "ipython",
    "version": 3
   },
   "file_extension": ".py",
   "mimetype": "text/x-python",
   "name": "python",
   "nbconvert_exporter": "python",
   "pygments_lexer": "ipython3",
   "version": "3.8.3"
  }
 },
 "nbformat": 4,
 "nbformat_minor": 4
}
