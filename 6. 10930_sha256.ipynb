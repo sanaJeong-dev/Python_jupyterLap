{
 "cells": [
  {
   "cell_type": "markdown",
   "metadata": {},
   "source": [
    "- 파이썬 기본 제공중인 라이브러리 사용하면 됨\n",
    "- 길게 나올수록 중복이 안되므로 안전하다\n",
    "\n",
    "1. hashlib의 sha256함수 이용하면 sha256의 객체를 구할 수 있고\n",
    "2. 문자열의 바이트객체를 매개변수로 함수에 대입 : hashlib.sha256(문자열의 바이트객체).hexdigest() 하면 해시 결과 문자열이 나온다\n",
    "\n"
   ]
  },
  {
   "cell_type": "code",
   "execution_count": 6,
   "metadata": {},
   "outputs": [
    {
     "name": "stdin",
     "output_type": "stream",
     "text": [
      " hello\n"
     ]
    },
    {
     "name": "stdout",
     "output_type": "stream",
     "text": [
      "2cf24dba5fb0a30e26e83b2ac5b9e29e1b161e5c1fa7425e73043362938b9824\n"
     ]
    }
   ],
   "source": [
    "import hashlib\n",
    "\n",
    "input_data = input()\n",
    "\n",
    "#바이트객체 만들기 : encode()\n",
    "encoded_data = input_data.encode()\n",
    "\n",
    "#sha256함수 안에 넣어서 해시객체 생성\n",
    "hash_object = hashlib.sha256(encoded_data)\n",
    "\n",
    "#digest로 해시코드 생성\n",
    "result = hash_object.hexdigest()\n",
    "\n",
    "print(result)"
   ]
  },
  {
   "cell_type": "code",
   "execution_count": null,
   "metadata": {},
   "outputs": [],
   "source": []
  }
 ],
 "metadata": {
  "kernelspec": {
   "display_name": "Python 3",
   "language": "python",
   "name": "python3"
  },
  "language_info": {
   "codemirror_mode": {
    "name": "ipython",
    "version": 3
   },
   "file_extension": ".py",
   "mimetype": "text/x-python",
   "name": "python",
   "nbconvert_exporter": "python",
   "pygments_lexer": "ipython3",
   "version": "3.8.3"
  }
 },
 "nbformat": 4,
 "nbformat_minor": 4
}
