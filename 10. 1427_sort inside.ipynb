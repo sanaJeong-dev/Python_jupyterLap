{
 "cells": [
  {
   "cell_type": "code",
   "execution_count": 8,
   "metadata": {},
   "outputs": [
    {
     "name": "stdout",
     "output_type": "stream",
     "text": [
      "4\n"
     ]
    }
   ],
   "source": [
    "n = 2143\n",
    "l = len(str(n))        #=4\n",
    "print(l)\n",
    "# result = list()\n",
    "\n",
    "# for each in range(l):\n",
    "#     max = int(n[each])\n",
    "#     for compare in range(each+1, l):\n",
    "#         if max < int(n[compare]):\n",
    "#             max = int(n[compare])\n",
    "#     result.append(max)\n",
    "\n",
    "# print(result)\n",
    "        "
   ]
  },
  {
   "cell_type": "code",
   "execution_count": 58,
   "metadata": {},
   "outputs": [
    {
     "name": "stdout",
     "output_type": "stream",
     "text": [
      "j 3 mox 2 n 143\n",
      "[2]\n",
      "j 2 mox 1 n 43\n",
      "[2, 1]\n",
      "j 1 mox 4 n 3\n",
      "[2, 1, 4]\n",
      "j 0 mox 3 n 0\n",
      "[2, 1, 4, 3]\n",
      "[4, 3, 2, 1]\n",
      "4321\n"
     ]
    }
   ],
   "source": [
    "n = 2143\n",
    "l = len(str(n))        #l=4\n",
    "nums_list = list()\n",
    "\n",
    "# 각각 10의자리 별 원소로 넣기\n",
    "for i in range(1, l+1):\n",
    "    j = l - i\n",
    "    ship = 10**j\n",
    "    mox = n // ship\n",
    "    n = n % ship\n",
    "    print('j', j, 'mox', mox, 'n', n)\n",
    "    nums_list.append(mox)\n",
    "    print(nums_list)\n",
    "    \n",
    "#내림차순 정렬\n",
    "nums_list.sort(reverse=True)\n",
    "print(nums_list)\n",
    "\n",
    "stred = list(map(str, nums_list))\n",
    "print(''.join(stred))"
   ]
  },
  {
   "cell_type": "code",
   "execution_count": 12,
   "metadata": {},
   "outputs": [
    {
     "data": {
      "text/plain": [
       "16"
      ]
     },
     "execution_count": 12,
     "metadata": {},
     "output_type": "execute_result"
    }
   ],
   "source": [
    "n = 4^2\n",
    "n"
   ]
  },
  {
   "cell_type": "code",
   "execution_count": 60,
   "metadata": {},
   "outputs": [
    {
     "name": "stdin",
     "output_type": "stream",
     "text": [
      " 2431\n"
     ]
    },
    {
     "name": "stdout",
     "output_type": "stream",
     "text": [
      "4321\n"
     ]
    }
   ],
   "source": [
    "n = int(input())\n",
    "l = len(str(n))        #l=4\n",
    "nums_list = list()\n",
    "\n",
    "# 각각 10의자리 별 원소로 넣기\n",
    "for i in range(1, l+1):\n",
    "    j = l - i\n",
    "    ship = 10**j\n",
    "    mox = n // ship\n",
    "    n = n % ship\n",
    "#     print('j', j, 'mox', mox, 'n', n)\n",
    "    nums_list.append(mox)\n",
    "#     print(nums_list)\n",
    "    \n",
    "#내림차순 정렬\n",
    "nums_list.sort(reverse=True)\n",
    "# print(nums_list)\n",
    "\n",
    "stred = list(map(str, nums_list))\n",
    "print(''.join(stred))"
   ]
  },
  {
   "cell_type": "code",
   "execution_count": null,
   "metadata": {},
   "outputs": [],
   "source": [
    "'''해설'''\n",
    "\n",
    "array = input()\n",
    "\n",
    "for i in range(9, -1, -1):\n",
    "    for j in array:\n",
    "        if int(j) == i:\n",
    "            print(i, end='')"
   ]
  }
 ],
 "metadata": {
  "kernelspec": {
   "display_name": "Python 3",
   "language": "python",
   "name": "python3"
  },
  "language_info": {
   "codemirror_mode": {
    "name": "ipython",
    "version": 3
   },
   "file_extension": ".py",
   "mimetype": "text/x-python",
   "name": "python",
   "nbconvert_exporter": "python",
   "pygments_lexer": "ipython3",
   "version": "3.8.3"
  }
 },
 "nbformat": 4,
 "nbformat_minor": 4
}
