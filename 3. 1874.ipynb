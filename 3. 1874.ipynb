{
 "cells": [
  {
   "cell_type": "markdown",
   "metadata": {},
   "source": [
    "예제\n",
    "8\n",
    "4\n",
    "3\n",
    "6\n",
    "8\n",
    "7\n",
    "5\n",
    "2\n",
    "1"
   ]
  },
  {
   "cell_type": "code",
   "execution_count": 9,
   "metadata": {},
   "outputs": [
    {
     "name": "stdout",
     "output_type": "stream",
     "text": [
      "+\n",
      "+\n",
      "+\n",
      "+\n",
      "-\n",
      "-\n",
      "+\n",
      "+\n",
      "-\n",
      "+\n",
      "+\n",
      "-\n",
      "-\n",
      "-\n",
      "-\n",
      "-\n"
     ]
    }
   ],
   "source": [
    "n = 8\n",
    "array = [4, 3, 6, 8, 7, 5, 2, 1]\n",
    "\n",
    "#검사먼저\n",
    "isBiggest = False\n",
    "isAble = True\n",
    "for i in range(n):\n",
    "    if array[i] == n:\n",
    "        isBiggest = True\n",
    "        continue\n",
    "    if isBiggest:\n",
    "        if array[i-1] < array[i]:\n",
    "            print('NO')\n",
    "            isAble = False\n",
    "\n",
    "#된다는 전제 하에\n",
    "if isAble:\n",
    "    stack = list()\n",
    "#    stack.append(0)\n",
    "    num = 1\n",
    "    \n",
    "    for i in range(n):\n",
    "        current = array[i]\n",
    "        while num <= current: #num이 더 크면 나옴\n",
    "            stack.append(num)\n",
    "            num += 1\n",
    "            print('+')\n",
    "        if current == stack[-1]:\n",
    "            stack.pop(-1)\n",
    "            print('-')\n"
   ]
  },
  {
   "cell_type": "code",
   "execution_count": 16,
   "metadata": {},
   "outputs": [
    {
     "ename": "SyntaxError",
     "evalue": "invalid syntax (<ipython-input-16-ea87f0334dc1>, line 7)",
     "output_type": "error",
     "traceback": [
      "\u001b[0;36m  File \u001b[0;32m\"<ipython-input-16-ea87f0334dc1>\"\u001b[0;36m, line \u001b[0;32m7\u001b[0m\n\u001b[0;31m    print(array)\u001b[0m\n\u001b[0m    ^\u001b[0m\n\u001b[0;31mSyntaxError\u001b[0m\u001b[0;31m:\u001b[0m invalid syntax\n"
     ]
    }
   ],
   "source": [
    "# 제출본 - 컴파일에러\n",
    "n = int(input())\n",
    "array = list()\n",
    "for i in range(n):\n",
    "    array.append(int(input())\n",
    "                 \n",
    "#검사먼저\n",
    "big = False\n",
    "isAble = True\n",
    "for i in range(n):\n",
    "    if array[i] == n:\n",
    "        big = True\n",
    "        continue\n",
    "    if big:\n",
    "        if array[i-1] < array[i]:\n",
    "            print('NO')\n",
    "            isAble = False\n",
    "\n",
    "#된다는 전제 하에\n",
    "if isAble:\n",
    "    stack = list()\n",
    "#    stack.append(0)\n",
    "    num = 1\n",
    "    \n",
    "    for i in range(n):\n",
    "        current = array[i]\n",
    "        while num <= current: #num이 더 크면 나옴\n",
    "            stack.append(num)\n",
    "            num += 1\n",
    "            print('+')\n",
    "        if current == stack[-1]:\n",
    "            stack.pop(-1)\n",
    "            print('-')\n",
    "\n"
   ]
  },
  {
   "cell_type": "code",
   "execution_count": null,
   "metadata": {
    "jupyter": {
     "source_hidden": true
    }
   },
   "outputs": [],
   "source": [
    "stack.append(appendIndex)\n",
    "print('+')\n",
    "appendIndex += 1\n",
    "\n",
    "while appendIndex <= n:\n",
    "    print(appendIndex, givenIndex, stack)\n",
    "    if len(stack) == 0:\n",
    "        print('something')\n",
    "        \n",
    "    if stack[-1] == given[givenIndex]:\n",
    "        stack.pop()\n",
    "        print('-')\n",
    "        givenIndex += 1\n",
    "        #pop성공할 때마다 givenIndex += 1 \n",
    "    else:\n",
    "        stack.append(appendIndex)\n",
    "        print('+')\n",
    "        appendIndex += 1\n",
    "    \n",
    "if appendIndex != n:\n",
    "    print('NO')\n",
    "\n",
    "while n - givenIndex:\n",
    "    if stack[-1] == given[givenIndex]:\n",
    "        stack.pop()\n",
    "        print('-')\n",
    "        givenIndex += 1\n"
   ]
  },
  {
   "cell_type": "code",
   "execution_count": 6,
   "metadata": {
    "collapsed": true,
    "jupyter": {
     "outputs_hidden": true,
     "source_hidden": true
    }
   },
   "outputs": [
    {
     "name": "stdout",
     "output_type": "stream",
     "text": [
      "8\n",
      "4\n",
      "3\n",
      "6\n",
      "8\n",
      "7\n",
      "5\n",
      "2\n",
      "1\n",
      "+\n",
      "+\n",
      "+\n",
      "+\n",
      "-\n",
      "-\n",
      "+\n",
      "+\n",
      "-\n",
      "+\n",
      "+\n",
      "-\n",
      "-\n",
      "-\n",
      "-\n",
      "-\n"
     ]
    }
   ],
   "source": [
    "'''해설 보고 난 후'''\n",
    "n = int(input())\n",
    "ascendCount = 1\n",
    "stack, result = [], []\n",
    "\n",
    "for _ in range(1, n+1):   #데이터를 받을 동안\n",
    "    currentData = int(input())\n",
    "    while ascendCount <= currentData:\n",
    "        stack.append(ascendCount)\n",
    "        ascendCount += 1\n",
    "        result.append('+')\n",
    "    if stack[-1] == currentData:\n",
    "        stack.pop()\n",
    "        result.append('-')\n",
    "    else:\n",
    "        print('NO')\n",
    "        exit(0)\n",
    "        \n",
    "print('\\n'.join(result))"
   ]
  },
  {
   "cell_type": "code",
   "execution_count": 14,
   "metadata": {},
   "outputs": [
    {
     "ename": "SyntaxError",
     "evalue": "unexpected EOF while parsing (<ipython-input-14-9f2305010997>, line 6)",
     "output_type": "error",
     "traceback": [
      "\u001b[0;36m  File \u001b[0;32m\"<ipython-input-14-9f2305010997>\"\u001b[0;36m, line \u001b[0;32m6\u001b[0m\n\u001b[0;31m    \u001b[0m\n\u001b[0m    ^\u001b[0m\n\u001b[0;31mSyntaxError\u001b[0m\u001b[0;31m:\u001b[0m unexpected EOF while parsing\n"
     ]
    }
   ],
   "source": [
    "# 제출본\n",
    "n = int(input())\n",
    "array = []\n",
    "for i in range(n):\n",
    "    array.append(int(input())\n",
    "\n"
   ]
  },
  {
   "cell_type": "code",
   "execution_count": null,
   "metadata": {},
   "outputs": [],
   "source": [
    "# 제출본\n",
    "n = int(input())\n",
    "array = list()\n",
    "for i in range(n):\n",
    "    array.append(int(input())"
   ]
  },
  {
   "cell_type": "code",
   "execution_count": null,
   "metadata": {},
   "outputs": [],
   "source": [
    "# 풀이\n",
    "\n",
    "n = int(input())\n",
    "\n",
    "count = 1\n",
    "stack = []\n",
    "result = []\n",
    "\n",
    "for i in range(1, n + 1):\n",
    "    data = int(input())   #오... input도 리스트에 안 넣고 하나하나 받아서 바로 처리\n",
    "    while count <= data:  #이건 내 num이랑 같음\n",
    "        stack.append(count)\n",
    "        count += 1\n",
    "        result.append('+')\n",
    "    if stack[-1] == data: #스택의 맨 위에 있는 값이 찾는 게 아니라면 \n",
    "        stack.pop()      #아 pop은 -1 안해도 되는군\n",
    "        result.append('-')\n",
    "    else: #불가능한 경우\n",
    "        print('NO')\n",
    "        exit(0) #맨 아래 문장 실행 안 함\n",
    "        \n",
    "print('\\n'.join(result)) #가능 한 경우\n",
    "        \n",
    "    "
   ]
  }
 ],
 "metadata": {
  "kernelspec": {
   "display_name": "Python 3",
   "language": "python",
   "name": "python3"
  },
  "language_info": {
   "codemirror_mode": {
    "name": "ipython",
    "version": 3
   },
   "file_extension": ".py",
   "mimetype": "text/x-python",
   "name": "python",
   "nbconvert_exporter": "python",
   "pygments_lexer": "ipython3",
   "version": "3.8.3"
  }
 },
 "nbformat": 4,
 "nbformat_minor": 4
}
