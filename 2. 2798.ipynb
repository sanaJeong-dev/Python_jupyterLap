{
 "cells": [
  {
   "cell_type": "code",
   "execution_count": 4,
   "metadata": {},
   "outputs": [
    {
     "name": "stdin",
     "output_type": "stream",
     "text": [
      " 1 4\n"
     ]
    },
    {
     "name": "stdout",
     "output_type": "stream",
     "text": [
      "1\n",
      "4\n"
     ]
    }
   ],
   "source": [
    "count, findOut = map(int,input().split(' '))\n",
    "print(count)\n",
    "print(findOut)"
   ]
  },
  {
   "cell_type": "code",
   "execution_count": null,
   "metadata": {},
   "outputs": [],
   "source": [
    "count, findOut = map(int,input().split(' '))\n",
    "cards = list(map(int, input().split(' ')))\n",
    "sums = list()\n",
    "\n",
    "for i in range(count-2):\n",
    "    for j in range(i+1, count-1):\n",
    "        for k in range(j+1, count):\n",
    "#             print(cards[i],cards[j],cards[k])\n",
    "            sums.append(cards[i]+cards[j]+cards[k])\n",
    "sums.sort()\n",
    "# print(sums)\n",
    "\n",
    "for maximum in range(len(sums)):\n",
    "    if sums[maximum] == findOut:\n",
    "        print(sums[maximum])\n",
    "        break\n",
    "    elif sums[maximum] > findOut:\n",
    "        print(sums[maximum-1])\n",
    "        break\n",
    "    elif maximum == len(sums)-1:\n",
    "        print(sums[maximum])"
   ]
  },
  {
   "cell_type": "code",
   "execution_count": null,
   "metadata": {},
   "outputs": [],
   "source": []
  }
 ],
 "metadata": {
  "kernelspec": {
   "display_name": "Python 3",
   "language": "python",
   "name": "python3"
  },
  "language_info": {
   "codemirror_mode": {
    "name": "ipython",
    "version": 3
   },
   "file_extension": ".py",
   "mimetype": "text/x-python",
   "name": "python",
   "nbconvert_exporter": "python",
   "pygments_lexer": "ipython3",
   "version": "3.8.3"
  }
 },
 "nbformat": 4,
 "nbformat_minor": 4
}
