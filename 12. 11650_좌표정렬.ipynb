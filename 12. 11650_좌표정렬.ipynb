{
 "cells": [
  {
   "cell_type": "code",
   "execution_count": null,
   "metadata": {},
   "outputs": [],
   "source": [
    "# 5\n",
    "# 3 4\n",
    "# 1 1\n",
    "# 1 -1\n",
    "# 2 2\n",
    "# 3 3\n",
    "\n",
    "n = int(input())\n",
    "for _ in range(n):\n",
    "    x, y = [map(int, input().split(' '))]\n",
    "    dots.append((x, y))\n"
   ]
  },
  {
   "cell_type": "code",
   "execution_count": 1,
   "metadata": {},
   "outputs": [
    {
     "ename": "SyntaxError",
     "evalue": "invalid syntax (<ipython-input-1-c430990fcc43>, line 7)",
     "output_type": "error",
     "traceback": [
      "\u001b[0;36m  File \u001b[0;32m\"<ipython-input-1-c430990fcc43>\"\u001b[0;36m, line \u001b[0;32m7\u001b[0m\n\u001b[0;31m    for\u001b[0m\n\u001b[0m        ^\u001b[0m\n\u001b[0;31mSyntaxError\u001b[0m\u001b[0;31m:\u001b[0m invalid syntax\n"
     ]
    }
   ],
   "source": [
    "n = 5\n",
    "dots = list()\n",
    "dots = [(3, 4), (1, 1), (1, -1), (2, 2), (3, 3)]\n",
    "\n",
    "for i in range(n):\n",
    "    min_x_idx = i\n",
    "    for "
   ]
  },
  {
   "cell_type": "code",
   "execution_count": null,
   "metadata": {},
   "outputs": [],
   "source": [
    "'''해설 봄'''\n",
    "\n",
    "n = int(input())\n",
    "for _ in range(n):\n",
    "    x, y = [map(int, input().split(' '))]\n",
    "    dots.append((x, y))\n",
    "\n",
    "dots = sorted(dots)\n",
    "\n",
    "for i in dots:\n",
    "    print(i[0], i[1])"
   ]
  }
 ],
 "metadata": {
  "kernelspec": {
   "display_name": "Python 3",
   "language": "python",
   "name": "python3"
  },
  "language_info": {
   "codemirror_mode": {
    "name": "ipython",
    "version": 3
   },
   "file_extension": ".py",
   "mimetype": "text/x-python",
   "name": "python",
   "nbconvert_exporter": "python",
   "pygments_lexer": "ipython3",
   "version": "3.8.3"
  }
 },
 "nbformat": 4,
 "nbformat_minor": 4
}
