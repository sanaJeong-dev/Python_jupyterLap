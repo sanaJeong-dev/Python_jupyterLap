{
 "cells": [
  {
   "cell_type": "code",
   "execution_count": 1,
   "metadata": {},
   "outputs": [],
   "source": [
    "#파이썬은 dictionary나 set으로 해시를 구현할 수 있기 때문에 hash 문제라도 정답코드는 딕셔너리 사용을 많이 함"
   ]
  },
  {
   "cell_type": "code",
   "execution_count": null,
   "metadata": {},
   "outputs": [],
   "source": [
    "n = int(input())\n",
    "data = set(map(int, input().split(' ')))\n",
    "m = int(input())\n",
    "find = list(map(int, input().split(' ')))"
   ]
  },
  {
   "cell_type": "code",
   "execution_count": 1,
   "metadata": {},
   "outputs": [
    {
     "name": "stdout",
     "output_type": "stream",
     "text": [
      "1\n",
      "1\n",
      "0\n",
      "0\n",
      "1\n"
     ]
    }
   ],
   "source": [
    "n = 5\n",
    "data = {4, 1, 5, 2, 3}\n",
    "m = 5\n",
    "find = [1, 3, 7, 9, 5]\n",
    "\n",
    "for i in find:\n",
    "    if i in data:\n",
    "        print(1)\n",
    "    else:\n",
    "        print(0)\n",
    "        "
   ]
  },
  {
   "cell_type": "code",
   "execution_count": 10,
   "metadata": {
    "collapsed": true,
    "jupyter": {
     "outputs_hidden": true,
     "source_hidden": true
    }
   },
   "outputs": [
    {
     "name": "stdout",
     "output_type": "stream",
     "text": [
      "h\n",
      "[1, 2]\n",
      "v\n",
      "[3, 4]\n"
     ]
    }
   ],
   "source": [
    "test_table = dict()\n",
    "test_table = {\"h\": [1, 2],\n",
    "             \"v\": [3, 4]}\n",
    "\n",
    "for h,v in test_table.items():\n",
    "    print(h)\n",
    "    print(v)"
   ]
  },
  {
   "cell_type": "code",
   "execution_count": null,
   "metadata": {},
   "outputs": [],
   "source": [
    "n = int(input())\n",
    "data = set(map(int, input().split(' ')))\n",
    "m = int(input())\n",
    "find = list(map(int, input().split(' ')))\n",
    "\n",
    "for i in find:\n",
    "    if i in data:\n",
    "        print(1)\n",
    "    else:\n",
    "        print(0)\n",
    "        "
   ]
  },
  {
   "cell_type": "code",
   "execution_count": 15,
   "metadata": {
    "jupyter": {
     "source_hidden": true
    }
   },
   "outputs": [
    {
     "name": "stdout",
     "output_type": "stream",
     "text": [
      "[[], [], [], [], []]\n",
      "[[5], [1], [2], [3], [4]]\n",
      "1\n",
      "1\n",
      "1\n",
      "1\n",
      "1\n"
     ]
    }
   ],
   "source": [
    "n = 5\n",
    "nums = [4, 1, 5, 2, 3]\n",
    "\n",
    "#table\n",
    "table = [ list() for _ in range(n)]\n",
    "print(table)\n",
    "\n",
    "for num in nums:\n",
    "    key = hash(num)\n",
    "    hash_code = key % n\n",
    "    table[hash_code].append(num)\n",
    "\n",
    "print(table)\n",
    "\n",
    "m = 5\n",
    "mums = [1, 3, 7, 9, 5]\n",
    "\n",
    "for mum in mums:\n",
    "    key = hash(mum)\n",
    "    hash_code = key % n\n",
    "    \n",
    "    #search\n",
    "    #1.unoccupied\n",
    "    if len(table[hash_code]) == 0:\n",
    "        print(0)\n",
    "    else:\n",
    "        print(1)\n",
    "        \n",
    "        \n",
    "        \n",
    "'''code도 같이 넣어야함.................'''"
   ]
  },
  {
   "cell_type": "code",
   "execution_count": null,
   "metadata": {},
   "outputs": [],
   "source": [
    "'''풀이랑 똑같음!'''"
   ]
  },
  {
   "cell_type": "code",
   "execution_count": null,
   "metadata": {},
   "outputs": [],
   "source": []
  }
 ],
 "metadata": {
  "kernelspec": {
   "display_name": "Python 3",
   "language": "python",
   "name": "python3"
  },
  "language_info": {
   "codemirror_mode": {
    "name": "ipython",
    "version": 3
   },
   "file_extension": ".py",
   "mimetype": "text/x-python",
   "name": "python",
   "nbconvert_exporter": "python",
   "pygments_lexer": "ipython3",
   "version": "3.8.3"
  }
 },
 "nbformat": 4,
 "nbformat_minor": 4
}
