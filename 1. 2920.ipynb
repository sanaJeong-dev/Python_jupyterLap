{
 "cells": [
  {
   "cell_type": "code",
   "execution_count": 1,
   "metadata": {},
   "outputs": [],
   "source": [
    "#sorting"
   ]
  },
  {
   "cell_type": "code",
   "execution_count": 2,
   "metadata": {},
   "outputs": [],
   "source": [
    "# 1->8 ascending\n",
    "# 8->1 descending\n",
    "# else mixed"
   ]
  },
  {
   "cell_type": "code",
   "execution_count": 8,
   "metadata": {},
   "outputs": [
    {
     "name": "stdout",
     "output_type": "stream",
     "text": [
      "mixed\n"
     ]
    }
   ],
   "source": [
    "inputs = list(map(int,input().split(' ')))\n",
    "\n",
    "def check(steps):\n",
    "    \n",
    "    for index in range(len(steps)-1):#8-1   # 1 2 3 4 5 6 8 7\n",
    "        if abs(steps[index+1] - steps[index]) != 1:\n",
    "            return \"mixed\"\n",
    "    \n",
    "    if steps[0] == 1:\n",
    "        return \"ascending\"\n",
    "    else:\n",
    "        return \"descending\"\n",
    "    \n",
    "print(check(inputs))"
   ]
  },
  {
   "cell_type": "code",
   "execution_count": 2,
   "metadata": {},
   "outputs": [
    {
     "name": "stdout",
     "output_type": "stream",
     "text": [
      "1 2 3 4 5 6 7 8\n",
      "ascending\n"
     ]
    }
   ],
   "source": [
    "#21.03.07\n",
    "array = list(map(int, input().split(' ')))\n",
    "flag = True\n",
    "for i in range(len(array)-1):\n",
    "    if abs(array[i+1] - array[i]) != 1:\n",
    "        flag = False\n",
    "        break\n",
    "\n",
    "if flag:\n",
    "    if array[0] == 1:\n",
    "        print(\"ascending\")\n",
    "    else:\n",
    "        print(\"descending\")\n",
    "else:\n",
    "    print(\"mixed\")"
   ]
  },
  {
   "cell_type": "code",
   "execution_count": null,
   "metadata": {},
   "outputs": [],
   "source": []
  }
 ],
 "metadata": {
  "kernelspec": {
   "display_name": "Python 3",
   "language": "python",
   "name": "python3"
  },
  "language_info": {
   "codemirror_mode": {
    "name": "ipython",
    "version": 3
   },
   "file_extension": ".py",
   "mimetype": "text/x-python",
   "name": "python",
   "nbconvert_exporter": "python",
   "pygments_lexer": "ipython3",
   "version": "3.9.1+"
  }
 },
 "nbformat": 4,
 "nbformat_minor": 4
}
