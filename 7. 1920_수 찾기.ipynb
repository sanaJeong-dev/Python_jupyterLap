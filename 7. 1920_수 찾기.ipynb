{
 "cells": [
  {
   "cell_type": "code",
   "execution_count": 1,
   "metadata": {},
   "outputs": [],
   "source": [
    "#파이썬은 dictionary나 set으로 해시를 구현할 수 있기 때문에 hash 문제라도 정답코드는 딕셔너리 사용을 많이 함\n"
   ]
  },
  {
   "cell_type": "code",
   "execution_count": 10,
   "metadata": {},
   "outputs": [
    {
     "name": "stdout",
     "output_type": "stream",
     "text": [
      "h\n",
      "[1, 2]\n",
      "v\n",
      "[3, 4]\n"
     ]
    }
   ],
   "source": [
    "test_table = dict()\n",
    "test_table = {\"h\": [1, 2],\n",
    "             \"v\": [3, 4]}\n",
    "\n",
    "for h,v in test_table.items():\n",
    "    print(h)\n",
    "    print(v)"
   ]
  },
  {
   "cell_type": "code",
   "execution_count": 15,
   "metadata": {},
   "outputs": [
    {
     "name": "stdout",
     "output_type": "stream",
     "text": [
      "[[], [], [], [], []]\n",
      "[[5], [1], [2], [3], [4]]\n",
      "1\n",
      "1\n",
      "1\n",
      "1\n",
      "1\n"
     ]
    }
   ],
   "source": [
    "n = 5\n",
    "nums = [4, 1, 5, 2, 3]\n",
    "\n",
    "#table\n",
    "table = [ list() for _ in range(n)]\n",
    "print(table)\n",
    "\n",
    "for num in nums:\n",
    "    key = hash(num)\n",
    "    hash_code = key % n\n",
    "    table[hash_code].append(num)\n",
    "\n",
    "print(table)\n",
    "\n",
    "m = 5\n",
    "mums = [1, 3, 7, 9, 5]\n",
    "\n",
    "for mum in mums:\n",
    "    key = hash(mum)\n",
    "    hash_code = key % n\n",
    "    \n",
    "    #search\n",
    "    #1.unoccupied\n",
    "    if len(table[hash_code]) == 0:\n",
    "        print(0)\n",
    "    else:\n",
    "        print(1)\n",
    "        \n",
    "        \n",
    "        \n",
    "'''code도 같이 넣어야함.................'''"
   ]
  },
  {
   "cell_type": "code",
   "execution_count": 29,
   "metadata": {},
   "outputs": [
    {
     "name": "stdout",
     "output_type": "stream",
     "text": [
      "[[], [], [], [], []]\n",
      "[[5], [1], [2], [3], [4]]\n",
      "1\n",
      "1\n",
      "0\n",
      "0\n",
      "1\n"
     ]
    },
    {
     "data": {
      "text/plain": [
       "'key도 같이 넣어야함.................아님...'"
      ]
     },
     "execution_count": 29,
     "metadata": {},
     "output_type": "execute_result"
    }
   ],
   "source": [
    "n = 5\n",
    "nums = [4, 1, 5, 2, 3]\n",
    "\n",
    "#table\n",
    "table = [ list() for _ in range(n)]\n",
    "print(table)\n",
    "\n",
    "for num in nums:\n",
    "#     key = hash(num)   #<-int라 필요없음\n",
    "    hash_code = num % n\n",
    "    table[hash_code].append(num)\n",
    "\n",
    "print(table)\n",
    "\n",
    "m = 5\n",
    "mums = [1, 3, 7, 9, 5]\n",
    "\n",
    "for mum in mums:\n",
    "#     key = hash(mum)\n",
    "    hash_code = mum % n\n",
    "    \n",
    "    #search\n",
    "    #1-1.unoccupied\n",
    "    if len(table[hash_code]) == 0:\n",
    "        print(0)\n",
    "    #1-2.occupied\n",
    "    else:\n",
    "        #search\n",
    "        for i in table[hash_code]:\n",
    "#             print(hash_code, 'i', i)\n",
    "            if mum == i:\n",
    "                print(1)\n",
    "            else:\n",
    "                print(0)\n",
    "        \n",
    "        \n",
    "        \n",
    "'''key도 같이 넣어야함.................아님...'''"
   ]
  },
  {
   "cell_type": "code",
   "execution_count": null,
   "metadata": {},
   "outputs": [],
   "source": [
    "'''input'''\n",
    "5\n",
    "4 1 5 2 3\n",
    "5\n",
    "1 3 7 9 5"
   ]
  },
  {
   "cell_type": "code",
   "execution_count": 32,
   "metadata": {},
   "outputs": [
    {
     "name": "stdin",
     "output_type": "stream",
     "text": [
      " 5\n",
      " 4 1 5 2 3\n",
      " 5\n",
      " 1 3 7 9 5\n"
     ]
    },
    {
     "name": "stdout",
     "output_type": "stream",
     "text": [
      "5\n",
      "[4, 1, 5, 2, 3]\n",
      "5\n",
      "[1, 3, 7, 9, 5]\n"
     ]
    }
   ],
   "source": [
    "n = int(input())\n",
    "nums = list(map(int, input().split(' ')))\n",
    "\n",
    "m = int(input())\n",
    "mums = list(map(int, input().split(' ')))\n",
    "\n",
    "print(n)\n",
    "print(nums)\n",
    "print(m)\n",
    "print(mums)"
   ]
  },
  {
   "cell_type": "code",
   "execution_count": null,
   "metadata": {},
   "outputs": [],
   "source": [
    "'''정리'''\n",
    "\n",
    "n = int(input())\n",
    "nums = list(map(int, input().split(' ')))\n",
    "\n",
    "#table\n",
    "table = [ list() for _ in range(n)]\n",
    "\n",
    "for num in nums:\n",
    "    hash_code = num % n\n",
    "    table[hash_code].append(num)\n",
    "\n",
    "m = int(input())\n",
    "mums = list(map(int, input().split(' ')))\n",
    "\n",
    "for mum in mums:\n",
    "    hash_code = mum % n\n",
    "    \n",
    "    #search\n",
    "    #1-1.unoccupied\n",
    "    if len(table[hash_code]) == 0:\n",
    "        result = 0\n",
    "    #1-2.occupied\n",
    "    else:\n",
    "        #search\n",
    "        for i in table[hash_code]:\n",
    "            if mum == i:\n",
    "                result = 1\n",
    "                break\n",
    "            else:\n",
    "                result = 0\n",
    "    print(result)"
   ]
  },
  {
   "cell_type": "code",
   "execution_count": 3,
   "metadata": {},
   "outputs": [
    {
     "name": "stdout",
     "output_type": "stream",
     "text": [
      "0\n",
      "1\n",
      "1\n",
      "0\n",
      "0\n"
     ]
    }
   ],
   "source": [
    "'''디버그'''\n",
    "\n",
    "n = 5\n",
    "nums = [9,19,29,39,49]\n",
    "\n",
    "#table\n",
    "table = [ list() for _ in range(n)]\n",
    "\n",
    "for num in nums:\n",
    "    hash_code = num % n\n",
    "    table[hash_code].append(num)\n",
    "\n",
    "m = 4\n",
    "mums = [8, 9, 19, 30, -1]\n",
    "\n",
    "for mum in mums:\n",
    "    hash_code = mum % n\n",
    "    result = -1\n",
    "    #search\n",
    "    #1-1.unoccupied\n",
    "    if len(table[hash_code]) == 0:\n",
    "        result = 0\n",
    "    #1-2.occupied\n",
    "    else:\n",
    "        #search\n",
    "        for i in table[hash_code]:\n",
    "            if mum == i:\n",
    "                result = 1\n",
    "                break\n",
    "            else:\n",
    "                result = 0\n",
    "    print(result)"
   ]
  },
  {
   "cell_type": "code",
   "execution_count": null,
   "metadata": {},
   "outputs": [],
   "source": []
  }
 ],
 "metadata": {
  "kernelspec": {
   "display_name": "Python 3",
   "language": "python",
   "name": "python3"
  },
  "language_info": {
   "codemirror_mode": {
    "name": "ipython",
    "version": 3
   },
   "file_extension": ".py",
   "mimetype": "text/x-python",
   "name": "python",
   "nbconvert_exporter": "python",
   "pygments_lexer": "ipython3",
   "version": "3.8.3"
  }
 },
 "nbformat": 4,
 "nbformat_minor": 4
}
