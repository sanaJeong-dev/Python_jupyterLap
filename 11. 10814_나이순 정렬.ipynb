{
 "cells": [
  {
   "cell_type": "code",
   "execution_count": 3,
   "metadata": {},
   "outputs": [
    {
     "name": "stdout",
     "output_type": "stream",
     "text": [
      "2\n"
     ]
    }
   ],
   "source": [
    "n = 3\n",
    "queue = [(21, 'Junkyu'), (21, 'Dohyun'), (20, 'Sunyoung')]\n",
    "\n",
    "# while queue:\n",
    "min_idx = 0\n",
    "for i in range(len(queue)):\n",
    "    if queue[min_idx][0] > queue[i][0]:\n",
    "        min_idx = i\n",
    "print(min_idx)"
   ]
  },
  {
   "cell_type": "code",
   "execution_count": 10,
   "metadata": {},
   "outputs": [
    {
     "name": "stdout",
     "output_type": "stream",
     "text": [
      "20 Sunyoung\n",
      "21 Junkyu\n",
      "21 Dohyun\n"
     ]
    }
   ],
   "source": [
    "n = 3\n",
    "queue = [(21, 'Junkyu'), (21, 'Dohyun'), (20, 'Sunyoung')]\n",
    "\n",
    "while queue:\n",
    "    min_idx = 0\n",
    "    for i in range(len(queue)):\n",
    "        if queue[min_idx][0] > queue[i][0]:\n",
    "            min_idx = i\n",
    "    if queue[0][0] == queue[min_idx][0]:\n",
    "        j, k = queue.pop(0)\n",
    "        print(j, end=' ')\n",
    "        print(k)\n",
    "    else:\n",
    "        j = queue.pop(0)\n",
    "        queue.append(j)"
   ]
  },
  {
   "cell_type": "code",
   "execution_count": 2,
   "metadata": {
    "jupyter": {
     "source_hidden": true
    }
   },
   "outputs": [
    {
     "name": "stdin",
     "output_type": "stream",
     "text": [
      " 21 Junkyu\n",
      " 21 Dohyun\n",
      " 20 Sunyoung\n"
     ]
    }
   ],
   "source": [
    "# 3\n",
    "# 21 Junkyu\n",
    "# 21 Dohyun\n",
    "# 20 Sunyoung\n",
    "\n",
    "n = 3\n",
    "members = list()\n",
    "\n",
    "for i in range(n):\n",
    "    age,name = input().split(' ')\n",
    "    members.append([int(age), name])\n",
    "\n"
   ]
  },
  {
   "cell_type": "code",
   "execution_count": 3,
   "metadata": {},
   "outputs": [
    {
     "data": {
      "text/plain": [
       "[[21, 'Junkyu'], [21, 'Dohyun'], [20, 'Sunyoung']]"
      ]
     },
     "execution_count": 3,
     "metadata": {},
     "output_type": "execute_result"
    }
   ],
   "source": [
    "members"
   ]
  },
  {
   "cell_type": "code",
   "execution_count": 6,
   "metadata": {
    "collapsed": true,
    "jupyter": {
     "outputs_hidden": true,
     "source_hidden": true
    }
   },
   "outputs": [
    {
     "name": "stdout",
     "output_type": "stream",
     "text": [
      "0 0\n",
      "1 1\n",
      "2 2\n",
      "[[20, 'Sunyoung'], [21, 'Junkyu'], [21, 'Dohyun']]\n"
     ]
    }
   ],
   "source": [
    "# select sort\n",
    "for i in range(n):  # 0, 1, 2\n",
    "    min_idx = i\n",
    "    for j in range(i+1,n):\n",
    "        if members[min_idx][0] < members[j][0]:\n",
    "            min_idx = j\n",
    "    print(min_idx, i)\n",
    "    members[min_idx], members[j] = members[j], members[min_idx]\n",
    "\n",
    "print(members)"
   ]
  },
  {
   "cell_type": "code",
   "execution_count": 7,
   "metadata": {
    "collapsed": true,
    "jupyter": {
     "outputs_hidden": true,
     "source_hidden": true
    }
   },
   "outputs": [
    {
     "ename": "KeyboardInterrupt",
     "evalue": "Interrupted by user",
     "output_type": "error",
     "traceback": [
      "\u001b[0;31m---------------------------------------------------------------------------\u001b[0m",
      "\u001b[0;31mKeyboardInterrupt\u001b[0m                         Traceback (most recent call last)",
      "\u001b[0;32m<ipython-input-7-71661bd1400e>\u001b[0m in \u001b[0;36m<module>\u001b[0;34m\u001b[0m\n\u001b[1;32m      1\u001b[0m \u001b[0;34m'''정리'''\u001b[0m\u001b[0;34m\u001b[0m\u001b[0;34m\u001b[0m\u001b[0m\n\u001b[1;32m      2\u001b[0m \u001b[0;34m\u001b[0m\u001b[0m\n\u001b[0;32m----> 3\u001b[0;31m \u001b[0mn\u001b[0m \u001b[0;34m=\u001b[0m \u001b[0mint\u001b[0m\u001b[0;34m(\u001b[0m\u001b[0minput\u001b[0m\u001b[0;34m(\u001b[0m\u001b[0;34m)\u001b[0m\u001b[0;34m)\u001b[0m\u001b[0;34m\u001b[0m\u001b[0;34m\u001b[0m\u001b[0m\n\u001b[0m\u001b[1;32m      4\u001b[0m \u001b[0mmembers\u001b[0m \u001b[0;34m=\u001b[0m \u001b[0mlist\u001b[0m\u001b[0;34m(\u001b[0m\u001b[0;34m)\u001b[0m\u001b[0;34m\u001b[0m\u001b[0;34m\u001b[0m\u001b[0m\n\u001b[1;32m      5\u001b[0m \u001b[0;32mfor\u001b[0m \u001b[0mi\u001b[0m \u001b[0;32min\u001b[0m \u001b[0mrange\u001b[0m\u001b[0;34m(\u001b[0m\u001b[0mn\u001b[0m\u001b[0;34m)\u001b[0m\u001b[0;34m:\u001b[0m\u001b[0;34m\u001b[0m\u001b[0;34m\u001b[0m\u001b[0m\n",
      "\u001b[0;32m~/opt/anaconda3/lib/python3.8/site-packages/ipykernel/kernelbase.py\u001b[0m in \u001b[0;36mraw_input\u001b[0;34m(self, prompt)\u001b[0m\n\u001b[1;32m    858\u001b[0m                 \u001b[0;34m\"raw_input was called, but this frontend does not support input requests.\"\u001b[0m\u001b[0;34m\u001b[0m\u001b[0;34m\u001b[0m\u001b[0m\n\u001b[1;32m    859\u001b[0m             )\n\u001b[0;32m--> 860\u001b[0;31m         return self._input_request(str(prompt),\n\u001b[0m\u001b[1;32m    861\u001b[0m             \u001b[0mself\u001b[0m\u001b[0;34m.\u001b[0m\u001b[0m_parent_ident\u001b[0m\u001b[0;34m,\u001b[0m\u001b[0;34m\u001b[0m\u001b[0;34m\u001b[0m\u001b[0m\n\u001b[1;32m    862\u001b[0m             \u001b[0mself\u001b[0m\u001b[0;34m.\u001b[0m\u001b[0m_parent_header\u001b[0m\u001b[0;34m,\u001b[0m\u001b[0;34m\u001b[0m\u001b[0;34m\u001b[0m\u001b[0m\n",
      "\u001b[0;32m~/opt/anaconda3/lib/python3.8/site-packages/ipykernel/kernelbase.py\u001b[0m in \u001b[0;36m_input_request\u001b[0;34m(self, prompt, ident, parent, password)\u001b[0m\n\u001b[1;32m    902\u001b[0m             \u001b[0;32mexcept\u001b[0m \u001b[0mKeyboardInterrupt\u001b[0m\u001b[0;34m:\u001b[0m\u001b[0;34m\u001b[0m\u001b[0;34m\u001b[0m\u001b[0m\n\u001b[1;32m    903\u001b[0m                 \u001b[0;31m# re-raise KeyboardInterrupt, to truncate traceback\u001b[0m\u001b[0;34m\u001b[0m\u001b[0;34m\u001b[0m\u001b[0;34m\u001b[0m\u001b[0m\n\u001b[0;32m--> 904\u001b[0;31m                 \u001b[0;32mraise\u001b[0m \u001b[0mKeyboardInterrupt\u001b[0m\u001b[0;34m(\u001b[0m\u001b[0;34m\"Interrupted by user\"\u001b[0m\u001b[0;34m)\u001b[0m \u001b[0;32mfrom\u001b[0m \u001b[0;32mNone\u001b[0m\u001b[0;34m\u001b[0m\u001b[0;34m\u001b[0m\u001b[0m\n\u001b[0m\u001b[1;32m    905\u001b[0m             \u001b[0;32mexcept\u001b[0m \u001b[0mException\u001b[0m \u001b[0;32mas\u001b[0m \u001b[0me\u001b[0m\u001b[0;34m:\u001b[0m\u001b[0;34m\u001b[0m\u001b[0;34m\u001b[0m\u001b[0m\n\u001b[1;32m    906\u001b[0m                 \u001b[0mself\u001b[0m\u001b[0;34m.\u001b[0m\u001b[0mlog\u001b[0m\u001b[0;34m.\u001b[0m\u001b[0mwarning\u001b[0m\u001b[0;34m(\u001b[0m\u001b[0;34m\"Invalid Message:\"\u001b[0m\u001b[0;34m,\u001b[0m \u001b[0mexc_info\u001b[0m\u001b[0;34m=\u001b[0m\u001b[0;32mTrue\u001b[0m\u001b[0;34m)\u001b[0m\u001b[0;34m\u001b[0m\u001b[0;34m\u001b[0m\u001b[0m\n",
      "\u001b[0;31mKeyboardInterrupt\u001b[0m: Interrupted by user"
     ]
    }
   ],
   "source": [
    "'''정리 -> 시간초과'''\n",
    "\n",
    "n = int(input())\n",
    "members = list()\n",
    "for i in range(n):\n",
    "    age,name = input().split(' ')\n",
    "    members.append([int(age), name])\n",
    "\n",
    "for i in range(n):  # 0, 1, 2\n",
    "    min_idx = i\n",
    "    for j in range(i+1,n):\n",
    "        if members[min_idx][0] < members[j][0]:\n",
    "            min_idx = j\n",
    "    members[min_idx], members[j] = members[j], members[min_idx]\n",
    "\n",
    "print(members)\n"
   ]
  },
  {
   "cell_type": "code",
   "execution_count": null,
   "metadata": {
    "jupyter": {
     "source_hidden": true
    }
   },
   "outputs": [],
   "source": [
    "\n",
    "'''해설 들은 후'''\n",
    "n = int(input())\n",
    "members = list()\n",
    "for i in range(n):\n",
    "    age,name = input().split(' ')\n",
    "    members.append((int(age), name))\n",
    "    \n",
    "members = sorted(members, key = lambda x : x[0])\n",
    "\n",
    "for i in members:\n",
    "    print(i[0], i[1])\n",
    "\n",
    "# 3\n",
    "# 21 Junkyu\n",
    "# 21 Dohyun\n",
    "# 20 Sunyoung"
   ]
  },
  {
   "cell_type": "code",
   "execution_count": 11,
   "metadata": {},
   "outputs": [
    {
     "name": "stdin",
     "output_type": "stream",
     "text": [
      " 3\n",
      " 21 Junkyu\n",
      " 21 Dohyun\n",
      " 20 Sunyoung\n"
     ]
    },
    {
     "name": "stdout",
     "output_type": "stream",
     "text": [
      "20 Sunyoung\n",
      "21 Junkyu\n",
      "21 Dohyun\n"
     ]
    }
   ],
   "source": [
    "'''final -> 시간초과'''\n",
    "n = int(input())\n",
    "queue = list()\n",
    "\n",
    "for _ in range(n):\n",
    "    x,y = input().split()\n",
    "    x = int(x)\n",
    "    queue.append((x, y))\n",
    "\n",
    "while queue:\n",
    "    min_idx = 0\n",
    "    for i in range(len(queue)):\n",
    "        if queue[min_idx][0] > queue[i][0]:\n",
    "            min_idx = i\n",
    "    if queue[0][0] == queue[min_idx][0]:\n",
    "        j, k = queue.pop(0)\n",
    "        print(j, end=' ')\n",
    "        print(k)\n",
    "    else:\n",
    "        j = queue.pop(0)\n",
    "        queue.append(j)"
   ]
  },
  {
   "cell_type": "code",
   "execution_count": 15,
   "metadata": {},
   "outputs": [
    {
     "data": {
      "text/plain": [
       "0"
      ]
     },
     "execution_count": 15,
     "metadata": {},
     "output_type": "execute_result"
    }
   ],
   "source": [
    "# min함수\n",
    "\n",
    "arr = [(1, 'a'), (5, 'b'), (0, 'c')]\n",
    "x = min(arr, key = lambda x: x[0])[0]\n",
    "x"
   ]
  },
  {
   "cell_type": "code",
   "execution_count": 17,
   "metadata": {},
   "outputs": [
    {
     "name": "stdin",
     "output_type": "stream",
     "text": [
      " 3\n",
      " 2 Jenny\n",
      " 2 Uj\n",
      " 1 hj\n"
     ]
    },
    {
     "name": "stdout",
     "output_type": "stream",
     "text": [
      "1 hj\n",
      "2 Jenny\n",
      "2 Uj\n"
     ]
    }
   ],
   "source": [
    "'''min 개선'''\n",
    "n = int(input())\n",
    "queue = list()\n",
    "\n",
    "for _ in range(n):\n",
    "    x,y = input().split(' ')\n",
    "    x = int(x)\n",
    "    queue.append((x, y))\n",
    "\n",
    "while queue:\n",
    "    min_value = min(queue, key = lambda x: x[0])[0]\n",
    "    if queue[0][0] == min_value:\n",
    "        j, k = queue.pop(0)\n",
    "        print(j, end=' ')\n",
    "        print(k)\n",
    "    else:\n",
    "        j = queue.pop(0)\n",
    "        queue.append(j)"
   ]
  },
  {
   "cell_type": "code",
   "execution_count": 18,
   "metadata": {},
   "outputs": [
    {
     "name": "stdin",
     "output_type": "stream",
     "text": [
      " 3\n",
      " 4 jenny\n",
      " 4 jerry\n",
      " 1 ham\n"
     ]
    },
    {
     "name": "stdout",
     "output_type": "stream",
     "text": [
      "1 ham\n",
      "4 jenny\n",
      "4 jerry\n"
     ]
    }
   ],
   "source": [
    "'''해설'''\n",
    "\n",
    "n = int(input())\n",
    "\n",
    "array = []\n",
    "\n",
    "for _ in range(n):\n",
    "    input_data = input().split(' ')\n",
    "    array.append((int(input_data[0]), input_data[1]))\n",
    "    \n",
    "array = sorted(array, key = lambda x: x[0]) # sorted 함수 연습하기\n",
    "# 키가 같으면 기본적으로 stable속성이 되어 배열 자체의 순서를 지킴\n",
    "\n",
    "for i in array:\n",
    "    print(i[0], i[1])"
   ]
  },
  {
   "cell_type": "code",
   "execution_count": null,
   "metadata": {},
   "outputs": [],
   "source": []
  }
 ],
 "metadata": {
  "kernelspec": {
   "display_name": "Python 3",
   "language": "python",
   "name": "python3"
  },
  "language_info": {
   "codemirror_mode": {
    "name": "ipython",
    "version": 3
   },
   "file_extension": ".py",
   "mimetype": "text/x-python",
   "name": "python",
   "nbconvert_exporter": "python",
   "pygments_lexer": "ipython3",
   "version": "3.8.3"
  }
 },
 "nbformat": 4,
 "nbformat_minor": 4
}
