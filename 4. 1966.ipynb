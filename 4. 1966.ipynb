{
 "cells": [
  {
   "cell_type": "code",
   "execution_count": null,
   "metadata": {},
   "outputs": [],
   "source": []
  },
  {
   "cell_type": "code",
   "execution_count": null,
   "metadata": {
    "jupyter": {
     "source_hidden": true
    }
   },
   "outputs": [],
   "source": []
  },
  {
   "cell_type": "code",
   "execution_count": null,
   "metadata": {},
   "outputs": [],
   "source": []
  },
  {
   "cell_type": "code",
   "execution_count": null,
   "metadata": {
    "jupyter": {
     "source_hidden": true
    }
   },
   "outputs": [],
   "source": []
  },
  {
   "cell_type": "code",
   "execution_count": null,
   "metadata": {},
   "outputs": [],
   "source": []
  },
  {
   "cell_type": "code",
   "execution_count": 3,
   "metadata": {},
   "outputs": [
    {
     "name": "stdout",
     "output_type": "stream",
     "text": [
      "0 1\n",
      "1 1\n",
      "2 9\n",
      "3 1\n",
      "4 1\n",
      "5 1\n"
     ]
    },
    {
     "data": {
      "text/plain": [
       "[(0, 1), (1, 1), (2, 9), (3, 1), (4, 1), (5, 1)]"
      ]
     },
     "execution_count": 3,
     "metadata": {},
     "output_type": "execute_result"
    }
   ],
   "source": [
    "'''enumerate 연습'''\n",
    "\n",
    "array = [1, 1, 9, 1, 1, 1]\n",
    "for i,j in enumerate(array):\n",
    "    print(i,j)\n",
    "queue = [ (i,j) for i, j in enumerate(array)]\n",
    "queue"
   ]
  },
  {
   "cell_type": "code",
   "execution_count": 17,
   "metadata": {},
   "outputs": [
    {
     "name": "stdout",
     "output_type": "stream",
     "text": [
      "queue [(0, 1), (1, 1), (2, 9), (3, 1), (4, 1), (5, 1)]\n",
      "여기\n",
      "\tcount 0\n",
      "queue [(1, 1), (2, 9), (3, 1), (4, 1), (5, 1), (0, 1)]\n",
      "여기\n",
      "\tcount 0\n",
      "queue [(2, 9), (3, 1), (4, 1), (5, 1), (0, 1), (1, 1)]\n",
      "저기\n",
      "\tcount 1\n",
      "queue [(3, 1), (4, 1), (5, 1), (0, 1), (1, 1)]\n",
      "저기\n",
      "\tcount 2\n",
      "queue [(4, 1), (5, 1), (0, 1), (1, 1)]\n",
      "저기\n",
      "\tcount 3\n",
      "queue [(5, 1), (0, 1), (1, 1)]\n",
      "저기\n",
      "\tcount 4\n",
      "queue [(0, 1), (1, 1)]\n",
      "저기\n",
      "result 5\n"
     ]
    }
   ],
   "source": [
    "n = 6\n",
    "findIndex = 0\n",
    "inputList = [1, 1, 9, 1, 1, 1]\n",
    "queue = [ (i, j) for i,j in enumerate(inputList) ]\n",
    "\n",
    "count = 0\n",
    "\n",
    "while count <= 6:\n",
    "    print('queue', queue)\n",
    "    currentIndex, currentPri = queue[0]\n",
    "    \n",
    "    maxPri = 0\n",
    "    for i in range(len(queue)):\n",
    "        temp = queue[i][1]\n",
    "        if temp > maxPri:\n",
    "            maxPri = temp\n",
    "#     print('maxPri', maxPri)\n",
    "    \n",
    "    if currentPri < maxPri:\n",
    "        print('여기')\n",
    "        queue.pop(0)\n",
    "        queue.append((currentIndex,currentPri))\n",
    "    else:\n",
    "        print('저기')\n",
    "        queue.pop(0)\n",
    "        count += 1 \n",
    "        \n",
    "        #check find\n",
    "        if currentIndex == findIndex:\n",
    "            print('result',count)\n",
    "            break\n",
    "    print('\\tcount', count)\n",
    "\n",
    "        \n"
   ]
  },
  {
   "cell_type": "code",
   "execution_count": 1,
   "metadata": {},
   "outputs": [
    {
     "data": {
      "text/plain": [
       "[2, 3]"
      ]
     },
     "execution_count": 1,
     "metadata": {},
     "output_type": "execute_result"
    }
   ],
   "source": [
    "arr = [1, 2, 3]\n",
    "arr.pop(0)\n",
    "arr"
   ]
  },
  {
   "cell_type": "code",
   "execution_count": 19,
   "metadata": {},
   "outputs": [
    {
     "name": "stdout",
     "output_type": "stream",
     "text": [
      "queue [(0, 1), (1, 2), (2, 3), (3, 4)]\n",
      "여기\n",
      "\tcount 0\n",
      "queue [(1, 2), (2, 3), (3, 4), (0, 1)]\n",
      "여기\n",
      "\tcount 0\n",
      "queue [(2, 3), (3, 4), (0, 1), (1, 2)]\n",
      "여기\n",
      "\tcount 0\n",
      "queue [(3, 4), (0, 1), (1, 2), (2, 3)]\n",
      "저기\n",
      "\tcount 1\n",
      "queue [(0, 1), (1, 2), (2, 3)]\n",
      "여기\n",
      "\tcount 1\n",
      "queue [(1, 2), (2, 3), (0, 1)]\n",
      "여기\n",
      "\tcount 1\n",
      "queue [(2, 3), (0, 1), (1, 2)]\n",
      "저기\n",
      "result 2\n"
     ]
    }
   ],
   "source": [
    "n = 4\n",
    "findIndex = 2\n",
    "inputList = [1,2,3,4]\n",
    "queue = [ (i, j) for i,j in enumerate(inputList) ]\n",
    "\n",
    "count = 0\n",
    "\n",
    "while count <= 6:\n",
    "    print('queue', queue)\n",
    "    currentIndex, currentPri = queue[0]\n",
    "    \n",
    "    maxPri = 0\n",
    "    for i in range(len(queue)):\n",
    "        temp = queue[i][1]\n",
    "        if temp > maxPri:\n",
    "            maxPri = temp\n",
    "#     print('maxPri', maxPri)\n",
    "    \n",
    "    if currentPri < maxPri:\n",
    "        print('여기')\n",
    "        queue.pop(0)\n",
    "        queue.append((currentIndex,currentPri))\n",
    "    else:\n",
    "        print('저기')\n",
    "        queue.pop(0)\n",
    "        count += 1 \n",
    "        \n",
    "        #check find\n",
    "        if currentIndex == findIndex:\n",
    "            print('result',count)\n",
    "            break\n",
    "    print('\\tcount', count)\n",
    "\n",
    "        "
   ]
  },
  {
   "cell_type": "code",
   "execution_count": 20,
   "metadata": {},
   "outputs": [
    {
     "name": "stdout",
     "output_type": "stream",
     "text": [
      "2\n",
      "2\n",
      "2\n"
     ]
    }
   ],
   "source": [
    "case = 3\n",
    "for i in range(case):\n",
    "    \n",
    "    n = 4\n",
    "    findIndex = 2\n",
    "    inputList = [1,2,3,4]\n",
    "    queue = [ (i, j) for i,j in enumerate(inputList) ]\n",
    "\n",
    "    count = 0\n",
    "\n",
    "    while count <= 6:\n",
    "        currentIndex, currentPri = queue[0]\n",
    "\n",
    "        maxPri = 0\n",
    "        for i in range(len(queue)):\n",
    "            temp = queue[i][1]\n",
    "            if temp > maxPri:\n",
    "                maxPri = temp\n",
    "\n",
    "        if currentPri < maxPri:\n",
    "            queue.pop(0)\n",
    "            queue.append((currentIndex,currentPri))\n",
    "        else:\n",
    "            queue.pop(0)\n",
    "            count += 1 \n",
    "\n",
    "            #check find\n",
    "            if currentIndex == findIndex:\n",
    "                print(count)\n",
    "                break\n",
    "\n",
    "        "
   ]
  },
  {
   "cell_type": "code",
   "execution_count": 24,
   "metadata": {},
   "outputs": [
    {
     "name": "stdin",
     "output_type": "stream",
     "text": [
      " 3\n",
      " 1 0\n",
      " 5\n"
     ]
    },
    {
     "name": "stdout",
     "output_type": "stream",
     "text": [
      "1\n"
     ]
    },
    {
     "name": "stdin",
     "output_type": "stream",
     "text": [
      " 4 2\n",
      " 1 2 3 4\n"
     ]
    },
    {
     "name": "stdout",
     "output_type": "stream",
     "text": [
      "2\n"
     ]
    },
    {
     "name": "stdin",
     "output_type": "stream",
     "text": [
      " 6 0\n",
      " 1 1 9 1 1 1\n"
     ]
    },
    {
     "name": "stdout",
     "output_type": "stream",
     "text": [
      "5\n"
     ]
    }
   ],
   "source": [
    "'''제출 -> 정답'''\n",
    "\n",
    "case = int(input())\n",
    "for i in range(case):\n",
    "    \n",
    "    n, findIndex = map(int, input().split(' '))\n",
    "    inputList = list(map(int, input().split(' ')))\n",
    "    queue = [ (i, j) for i,j in enumerate(inputList) ]\n",
    "\n",
    "    count = 0\n",
    "\n",
    "    while count <= n:\n",
    "        currentIndex, currentPri = queue[0]\n",
    "\n",
    "        maxPri = 0\n",
    "        for i in range(len(queue)):\n",
    "            temp = queue[i][1]\n",
    "            if temp > maxPri:\n",
    "                maxPri = temp\n",
    "\n",
    "        if currentPri < maxPri:\n",
    "            queue.pop(0)\n",
    "            queue.append((currentIndex,currentPri))\n",
    "        else:\n",
    "            queue.pop(0)\n",
    "            count += 1 \n",
    "\n",
    "            #check find\n",
    "            if currentIndex == findIndex:\n",
    "                print(count)\n",
    "                break"
   ]
  },
  {
   "cell_type": "code",
   "execution_count": null,
   "metadata": {},
   "outputs": [],
   "source": [
    "'''강의 풀이'''\n",
    "\n",
    "case = int(input())\n",
    "for _ in range(case):   #변수 안 쓸땐 _\n",
    "    \n",
    "    n, findIndex = map(int, input().split(' '))\n",
    "    queue = list(map(int, input().split(' ')))\n",
    "    queue = [ (i, j) for i,j in enumerate(queue) ] #웬만하면 새 변수 만들지 않고 교체\n",
    "\n",
    "    count = 0\n",
    "\n",
    "    while True:   #난 while True를 잘 못쓰겠어..\n",
    "        if queue[0][1] == max(queue, key=lambda x: x[1])[1]: #max구하는 신세계방법\n",
    "            # max함수 마지막에 [1]은 queue 전체를 max 돌렸으므로 max함수값 자체가 (3,2)처럼\n",
    "            # 튜플로 나오기 때문. 그 중 우선순위만 비교하려면 [1] 로 인덱스 명시\n",
    "            count += 1\n",
    "            if queue[0][0] == findIndex:\n",
    "                print(count)\n",
    "                break\n",
    "            else:\n",
    "                queue.pop(0)\n",
    "        else:\n",
    "            queue.append(queue.pop(0))    # 연산 두줄로 안 적고 합치기"
   ]
  }
 ],
 "metadata": {
  "kernelspec": {
   "display_name": "Python 3",
   "language": "python",
   "name": "python3"
  },
  "language_info": {
   "codemirror_mode": {
    "name": "ipython",
    "version": 3
   },
   "file_extension": ".py",
   "mimetype": "text/x-python",
   "name": "python",
   "nbconvert_exporter": "python",
   "pygments_lexer": "ipython3",
   "version": "3.8.3"
  }
 },
 "nbformat": 4,
 "nbformat_minor": 4
}
