{
 "cells": [
  {
   "cell_type": "code",
   "execution_count": null,
   "metadata": {},
   "outputs": [],
   "source": [
    "testcase = 2\n",
    "for _ in range(testcase):\n",
    "    keylog = input()\n",
    "    left, right = [],[]\n",
    "    for idx in range(len(keylog)):\n",
    "        print(keylog[idx])\n",
    "        if keylog[idx] == '<':\n",
    "            if len(left) == 0:\n",
    "                continue\n",
    "            right.append(left.pop())\n",
    "        elif keylog[idx] == '>':\n",
    "            if len(right) == 0:\n",
    "                continue\n",
    "            left.append(right.pop())\n",
    "        elif keylog[idx] == '-':\n",
    "            if len(left) == 0:\n",
    "                continue\n",
    "            left.pop()\n",
    "        else:  #alphabet\n",
    "            left.append(keylog[idx])\n",
    "    print(left)"
   ]
  },
  {
   "cell_type": "code",
   "execution_count": 13,
   "metadata": {},
   "outputs": [
    {
     "name": "stdin",
     "output_type": "stream",
     "text": [
      " 1\n",
      " pik<n>ady<<<l\n"
     ]
    },
    {
     "name": "stdout",
     "output_type": "stream",
     "text": [
      "pinklady\n"
     ]
    }
   ],
   "source": [
    "'''맞음'''\n",
    "testcase = int(input())\n",
    "for _ in range(testcase):\n",
    "    keylog = input()\n",
    "    left, right = [],[]\n",
    "    for idx in range(len(keylog)):\n",
    "#         print(keylog[idx])\n",
    "        if keylog[idx] == '<':\n",
    "            if len(left) == 0:\n",
    "                continue\n",
    "            right.append(left.pop())\n",
    "        elif keylog[idx] == '>':\n",
    "            if len(right) == 0:\n",
    "                continue\n",
    "            left.append(right.pop())\n",
    "        elif keylog[idx] == '-':\n",
    "            if len(left) == 0:\n",
    "                continue\n",
    "            left.pop()\n",
    "        else:  #alphabet\n",
    "            left.append(keylog[idx])\n",
    "    while right:\n",
    "        left.append(right.pop())\n",
    "    print(''.join(left))"
   ]
  },
  {
   "cell_type": "code",
   "execution_count": null,
   "metadata": {},
   "outputs": [],
   "source": [
    "pinklady      pik<n>ady<<<l"
   ]
  }
 ],
 "metadata": {
  "kernelspec": {
   "display_name": "Python 3",
   "language": "python",
   "name": "python3"
  },
  "language_info": {
   "codemirror_mode": {
    "name": "ipython",
    "version": 3
   },
   "file_extension": ".py",
   "mimetype": "text/x-python",
   "name": "python",
   "nbconvert_exporter": "python",
   "pygments_lexer": "ipython3",
   "version": "3.8.3"
  }
 },
 "nbformat": 4,
 "nbformat_minor": 4
}
