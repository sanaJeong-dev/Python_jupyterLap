{
 "cells": [
  {
   "cell_type": "code",
   "execution_count": 10,
   "metadata": {},
   "outputs": [
    {
     "name": "stdin",
     "output_type": "stream",
     "text": [
      " Fred Barney\n",
      " Barney Betty\n",
      " Betty Wilma\n"
     ]
    },
    {
     "name": "stdout",
     "output_type": "stream",
     "text": [
      "{<generator object <genexpr> at 0x7fd16c48dc80>}\n"
     ]
    }
   ],
   "source": [
    "class Person:\n",
    "    def __init__(self, name):\n",
    "        self.name = name\n",
    "        self.friend = []\n",
    "\n",
    "testcase = 1\n",
    "for each_case in range(testcase):\n",
    "    relation_count = 3\n",
    "    people = set()\n",
    "    for adding in range(relation_count):\n",
    "        people.add(i for i in input().split())\n",
    "        \n",
    "    print(people)\n",
    "    \n",
    "    for person in people:\n",
    "        person = \n",
    "    \n",
    "# john = Person('John')\n",
    "# john.friend\n",
    "\n",
    "\n",
    "\n",
    "\n",
    "\n",
    "\n",
    "# Fred Barney\n",
    "# Barney Betty\n",
    "# Betty Wilma"
   ]
  },
  {
   "cell_type": "code",
   "execution_count": 11,
   "metadata": {},
   "outputs": [
    {
     "name": "stdout",
     "output_type": "stream",
     "text": [
      "2 2 3 2 "
     ]
    }
   ],
   "source": [
    "'''해설'''\n",
    "\n",
    "# 해시를 활용한 Union-Find 알고리즘(합집합 찾기)를 이용해 풀 수 있다\n",
    "    #부모테이블을 이용해서 본인이 어디에 속해있는지 찾는 방법\n",
    "# Python에서는 dictionary 자료형을 해시처럼 사용할 수 있다.\n",
    "# 1 - 4 - 3이 연결되어도 사실 3->1 연결된것과 같다 (재귀적)\n",
    "\n",
    "def find(x):\n",
    "    if x == parent[x]:\n",
    "        return x\n",
    "    else:\n",
    "        p = find(parent[x])\n",
    "        parent[x] = p     #자식들이 줄줄이 연결 아니고 형제로 통일됨 <- 재귀적 용법.\n",
    "        return parent[x]  #한칸만 올라가면 되니 바로 리턴\n",
    "    \n",
    "def union(x, y):\n",
    "    x = find(x)  #x의부모, y의부모 캐내서\n",
    "    y = find(y)\n",
    "    \n",
    "    parent[y] = x  #임의로 y의부모를 x로 바꿈 -> 같은 라인이 됨\n",
    "    \n",
    "    \n",
    "    \n",
    "parent = []\n",
    "\n",
    "for i in range(0,5):\n",
    "    parent.append(i)\n",
    "\n",
    "union(1, 4)\n",
    "union(2, 4)\n",
    "\n",
    "for i in range(1, len(parent)):\n",
    "    print(find(i), end = ' ')"
   ]
  },
  {
   "cell_type": "code",
   "execution_count": null,
   "metadata": {},
   "outputs": [],
   "source": [
    "'''해설'''\n",
    "\n",
    "def find(x):\n",
    "    if x == parent[x]:\n",
    "        return x\n",
    "    else:\n",
    "        p = find(parent[x])\n",
    "        parent[x] = p\n",
    "        return parent[x]\n",
    "\n",
    "def union(x, y):\n",
    "    x = find(x)  # x값자체를 최상위값으로 바꾼 뒤 걔네만 갖고 논다\n",
    "    y = find(y)\n",
    "    \n",
    "    if x != y:   # 둘이 아예 다른 그룹이었다면 같은그룹 화 하면서 number도 합침\n",
    "        parent[y] = x\n",
    "        number[x] += number[y]\n",
    "\n",
    "\n",
    "test_case = int(input())\n",
    "\n",
    "for _ in range(test_case):\n",
    "    parent = dict()\n",
    "    number = dict()\n",
    "    \n",
    "    f = int(input())     #쌍의 갯수\n",
    "    \n",
    "    for _ in range(f):\n",
    "        x, y = input().split(' ')  # A B 각자 넣고\n",
    "        \n",
    "        if x not in parent: #parent의 인덱스원소로 없을 때 <-신기\n",
    "            parent[x] = x   #초기화\n",
    "            number[x] = 1\n",
    "        if y not in parent:\n",
    "            parent[y] = x\n",
    "            number[y] = 1\n",
    "        \n",
    "        union(x, y)\n",
    "        \n",
    "        print(number[find(x)]) # 연결이 되었든 안되었든 왼쪽거(임의로 부모로 했으니)의 넘만 뽑으면 됨"
   ]
  }
 ],
 "metadata": {
  "kernelspec": {
   "display_name": "Python 3",
   "language": "python",
   "name": "python3"
  },
  "language_info": {
   "codemirror_mode": {
    "name": "ipython",
    "version": 3
   },
   "file_extension": ".py",
   "mimetype": "text/x-python",
   "name": "python",
   "nbconvert_exporter": "python",
   "pygments_lexer": "ipython3",
   "version": "3.8.3"
  }
 },
 "nbformat": 4,
 "nbformat_minor": 4
}
